{
 "cells": [
  {
   "cell_type": "code",
   "execution_count": 21,
   "id": "448e2c53-6946-4bbc-a7bf-cb968c8e930c",
   "metadata": {},
   "outputs": [
    {
     "name": "stdout",
     "output_type": "stream",
     "text": [
      "{\n",
      "\t\"lastBuildDate\":\"Sun, 18 Feb 2024 19:24:25 +0900\",\n",
      "\t\"total\":1,\n",
      "\t\"start\":1,\n",
      "\t\"display\":1,\n",
      "\t\"items\":[\n",
      "\t\t{\n",
      "\t\t\t\"title\":\"<b>부산<\\/b>대<b>학교<\\/b> <b>부산<\\/b>캠퍼스\",\n",
      "\t\t\t\"link\":\"http:\\/\\/www.pusan.ac.kr\\/\",\n",
      "\t\t\t\"category\":\"교육,학문>대학교\",\n",
      "\t\t\t\"description\":\"\",\n",
      "\t\t\t\"telephone\":\"\",\n",
      "\t\t\t\"address\":\"부산광역시 금정구 장전동 40\",\n",
      "\t\t\t\"roadAddress\":\"부산광역시 금정구 부산대학로63번길 2\",\n",
      "\t\t\t\"mapx\":\"1290798453\",\n",
      "\t\t\t\"mapy\":\"352333797\"\n",
      "\t\t}\n",
      "\t]\n",
      "}\n"
     ]
    }
   ],
   "source": [
    "# 네이버 검색 API 예제 - 장소 검색\n",
    "import os\n",
    "import sys\n",
    "import urllib.request\n",
    "\n",
    "client_id = \"ZVaUgBFN_6V0pjhgvjnQ\"\n",
    "client_secret = \"Y6EoK1RtA9\"\n",
    "encText = urllib.parse.quote(\"부산학교\")\n",
    "url = \"https://openapi.naver.com/v1/search/local.json?query=\" + encText #JSON 결과\n",
    "# url = \"https://openapi.naver.com/v1/search/blog.xml?query=\" + encText # XML 결과\n",
    "request = urllib.request.Request(url)\n",
    "request.add_header(\"X-Naver-Client-Id\",client_id)\n",
    "request.add_header(\"X-Naver-Client-Secret\",client_secret)\n",
    "response = urllib.request.urlopen(request)\n",
    "rescode = response.getcode()\n",
    "\n",
    "if(rescode==200):\n",
    "    response_body = response.read()\n",
    "    print(response_body.decode('utf-8'))\n",
    "else:\n",
    "    print(\"Error Code:\" + rescode)"
   ]
  },
  {
   "cell_type": "code",
   "execution_count": 22,
   "id": "40f634b1-5b86-4a1f-b138-1d9c7e287678",
   "metadata": {},
   "outputs": [],
   "source": [
    "import os\n",
    "import sys\n",
    "import urllib.request\n",
    "import json\n",
    "import pandas as pd\n",
    "\n",
    "def getresult(client_id,client_secret,query,display=10,start=1,sort='sim'):\n",
    "    encText = urllib.parse.quote(query)\n",
    "    url = \"https://openapi.naver.com/v1/search/local.json?query=\" + encText + \\\n",
    "    \"&display=\" + str(display) + \"&start=\" + str(start) + \"&sort=\" + sort\n",
    "\n",
    "    request = urllib.request.Request(url)\n",
    "    request.add_header(\"X-Naver-Client-Id\",client_id)\n",
    "    request.add_header(\"X-Naver-Client-Secret\",client_secret)\n",
    "    response = urllib.request.urlopen(request)\n",
    "    rescode = response.getcode()\n",
    "    if(rescode==200):\n",
    "        response_body = response.read()\n",
    "        response_json = json.loads(response_body)\n",
    "    else:\n",
    "        print(\"Error Code:\" + rescode)\n",
    "\n",
    "    return pd.DataFrame(response_json['items'])"
   ]
  },
  {
   "cell_type": "code",
   "execution_count": 27,
   "id": "691b97de-486e-42a2-9965-f29f4c70ecbf",
   "metadata": {},
   "outputs": [],
   "source": [
    "client_id = \"ZVaUgBFN_6V0pjhgvjnQ\"\n",
    "client_secret = \"Y6EoK1RtA9\"\n",
    "query = '부산학교'\n",
    "display=5\n",
    "start=1\n",
    "sort='sim'\n",
    "\n",
    "result_all=pd.DataFrame()\n",
    "#for i in range(0,2):\n",
    "    #start= 1\n",
    "    #result= getresult(client_id,client_secret,query,display,start,sort)\n",
    "    \n",
    "result_all=pd.concat([result_all,result])"
   ]
  },
  {
   "cell_type": "code",
   "execution_count": 28,
   "id": "6e4d2d54-bd75-4dfd-8f68-5a2e6585e517",
   "metadata": {},
   "outputs": [
    {
     "data": {
      "text/plain": [
       "(5, 9)"
      ]
     },
     "execution_count": 28,
     "metadata": {},
     "output_type": "execute_result"
    }
   ],
   "source": [
    "result_all.shape"
   ]
  },
  {
   "cell_type": "code",
   "execution_count": 29,
   "id": "176c7396-7bdc-42b5-9c23-fe7ab27666f7",
   "metadata": {
    "scrolled": true
   },
   "outputs": [
    {
     "data": {
      "text/html": [
       "<div>\n",
       "<style scoped>\n",
       "    .dataframe tbody tr th:only-of-type {\n",
       "        vertical-align: middle;\n",
       "    }\n",
       "\n",
       "    .dataframe tbody tr th {\n",
       "        vertical-align: top;\n",
       "    }\n",
       "\n",
       "    .dataframe thead th {\n",
       "        text-align: right;\n",
       "    }\n",
       "</style>\n",
       "<table border=\"1\" class=\"dataframe\">\n",
       "  <thead>\n",
       "    <tr style=\"text-align: right;\">\n",
       "      <th></th>\n",
       "      <th>title</th>\n",
       "      <th>link</th>\n",
       "      <th>category</th>\n",
       "      <th>description</th>\n",
       "      <th>telephone</th>\n",
       "      <th>address</th>\n",
       "      <th>roadAddress</th>\n",
       "      <th>mapx</th>\n",
       "      <th>mapy</th>\n",
       "    </tr>\n",
       "  </thead>\n",
       "  <tbody>\n",
       "    <tr>\n",
       "      <th>0</th>\n",
       "      <td>&lt;b&gt;부산&lt;/b&gt;대&lt;b&gt;학교&lt;/b&gt; &lt;b&gt;부산&lt;/b&gt;캠퍼스</td>\n",
       "      <td>http://www.pusan.ac.kr/</td>\n",
       "      <td>교육,학문&gt;대학교</td>\n",
       "      <td></td>\n",
       "      <td></td>\n",
       "      <td>부산광역시 금정구 장전동 40</td>\n",
       "      <td>부산광역시 금정구 부산대학로63번길 2</td>\n",
       "      <td>1290798453</td>\n",
       "      <td>352333797</td>\n",
       "    </tr>\n",
       "    <tr>\n",
       "      <th>1</th>\n",
       "      <td>동아대&lt;b&gt;학교&lt;/b&gt;승학캠퍼스</td>\n",
       "      <td>http://www.donga.ac.kr/</td>\n",
       "      <td>교육,학문&gt;대학교</td>\n",
       "      <td></td>\n",
       "      <td></td>\n",
       "      <td>부산광역시 사하구 하단동  840</td>\n",
       "      <td>부산광역시 사하구 낙동대로550번길 37</td>\n",
       "      <td>1289675077</td>\n",
       "      <td>351161348</td>\n",
       "    </tr>\n",
       "    <tr>\n",
       "      <th>2</th>\n",
       "      <td>부경대&lt;b&gt;학교&lt;/b&gt; 대연캠퍼스</td>\n",
       "      <td>http://www.pknu.ac.kr/</td>\n",
       "      <td>교육,학문&gt;대학교</td>\n",
       "      <td></td>\n",
       "      <td></td>\n",
       "      <td>부산광역시 남구 대연동 599-1</td>\n",
       "      <td>부산광역시 남구 용소로 45 부경대학교</td>\n",
       "      <td>1291059875</td>\n",
       "      <td>351335486</td>\n",
       "    </tr>\n",
       "    <tr>\n",
       "      <th>3</th>\n",
       "      <td>한국해양대&lt;b&gt;학교&lt;/b&gt;아치캠퍼스</td>\n",
       "      <td>http://www.kmou.ac.kr/</td>\n",
       "      <td>교육,학문&gt;대학교</td>\n",
       "      <td></td>\n",
       "      <td></td>\n",
       "      <td>부산광역시 영도구 동삼동 1</td>\n",
       "      <td>부산광역시 영도구 태종로 727</td>\n",
       "      <td>1290892004</td>\n",
       "      <td>350763579</td>\n",
       "    </tr>\n",
       "    <tr>\n",
       "      <th>4</th>\n",
       "      <td>&lt;b&gt;부산&lt;/b&gt;가톨릭대&lt;b&gt;학교&lt;/b&gt;</td>\n",
       "      <td>http://www.cup.ac.kr/</td>\n",
       "      <td>교육,학문&gt;대학교</td>\n",
       "      <td></td>\n",
       "      <td></td>\n",
       "      <td>부산광역시 금정구 부곡동 9</td>\n",
       "      <td>부산광역시 금정구 오륜대로 57</td>\n",
       "      <td>1290975491</td>\n",
       "      <td>352447039</td>\n",
       "    </tr>\n",
       "  </tbody>\n",
       "</table>\n",
       "</div>"
      ],
      "text/plain": [
       "                              title                     link   category  \\\n",
       "0  <b>부산</b>대<b>학교</b> <b>부산</b>캠퍼스  http://www.pusan.ac.kr/  교육,학문>대학교   \n",
       "1                 동아대<b>학교</b>승학캠퍼스  http://www.donga.ac.kr/  교육,학문>대학교   \n",
       "2                부경대<b>학교</b> 대연캠퍼스   http://www.pknu.ac.kr/  교육,학문>대학교   \n",
       "3               한국해양대<b>학교</b>아치캠퍼스   http://www.kmou.ac.kr/  교육,학문>대학교   \n",
       "4            <b>부산</b>가톨릭대<b>학교</b>    http://www.cup.ac.kr/  교육,학문>대학교   \n",
       "\n",
       "  description telephone             address             roadAddress  \\\n",
       "0                          부산광역시 금정구 장전동 40   부산광역시 금정구 부산대학로63번길 2   \n",
       "1                        부산광역시 사하구 하단동  840  부산광역시 사하구 낙동대로550번길 37   \n",
       "2                        부산광역시 남구 대연동 599-1   부산광역시 남구 용소로 45 부경대학교   \n",
       "3                           부산광역시 영도구 동삼동 1       부산광역시 영도구 태종로 727   \n",
       "4                           부산광역시 금정구 부곡동 9       부산광역시 금정구 오륜대로 57   \n",
       "\n",
       "         mapx       mapy  \n",
       "0  1290798453  352333797  \n",
       "1  1289675077  351161348  \n",
       "2  1291059875  351335486  \n",
       "3  1290892004  350763579  \n",
       "4  1290975491  352447039  "
      ]
     },
     "execution_count": 29,
     "metadata": {},
     "output_type": "execute_result"
    }
   ],
   "source": [
    "result_all"
   ]
  }
 ],
 "metadata": {
  "kernelspec": {
   "display_name": "Python 3 (ipykernel)",
   "language": "python",
   "name": "python3"
  },
  "language_info": {
   "codemirror_mode": {
    "name": "ipython",
    "version": 3
   },
   "file_extension": ".py",
   "mimetype": "text/x-python",
   "name": "python",
   "nbconvert_exporter": "python",
   "pygments_lexer": "ipython3",
   "version": "3.10.12"
  }
 },
 "nbformat": 4,
 "nbformat_minor": 5
}
