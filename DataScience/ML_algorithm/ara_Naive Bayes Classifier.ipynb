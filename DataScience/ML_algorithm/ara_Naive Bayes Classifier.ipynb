{
 "cells": [
  {
   "cell_type": "markdown",
   "id": "50b22ca4",
   "metadata": {},
   "source": [
    "### 01. 라이브러리 임포트"
   ]
  },
  {
   "cell_type": "code",
   "execution_count": 2,
   "id": "b95b1099",
   "metadata": {},
   "outputs": [
    {
     "name": "stdout",
     "output_type": "stream",
     "text": [
      "WARNING:tensorflow:From C:\\Users\\wogus\\anaconda3\\Lib\\site-packages\\keras\\src\\losses.py:2976: The name tf.losses.sparse_softmax_cross_entropy is deprecated. Please use tf.compat.v1.losses.sparse_softmax_cross_entropy instead.\n",
      "\n"
     ]
    }
   ],
   "source": [
    "from sklearn.naive_bayes import GaussianNB\n",
    "\n",
    "import numpy as np\n",
    "import pandas as pd\n",
    "import seaborn as sns\n",
    "import tensorflow as tf\n",
    "from tensorflow import keras"
   ]
  },
  {
   "cell_type": "markdown",
   "id": "dd3e6e37",
   "metadata": {},
   "source": [
    "### 02. 데이터 불러오기 (xlsx)"
   ]
  },
  {
   "cell_type": "code",
   "execution_count": 3,
   "id": "b58e7040",
   "metadata": {},
   "outputs": [
    {
     "data": {
      "text/html": [
       "<div>\n",
       "<style scoped>\n",
       "    .dataframe tbody tr th:only-of-type {\n",
       "        vertical-align: middle;\n",
       "    }\n",
       "\n",
       "    .dataframe tbody tr th {\n",
       "        vertical-align: top;\n",
       "    }\n",
       "\n",
       "    .dataframe thead th {\n",
       "        text-align: right;\n",
       "    }\n",
       "</style>\n",
       "<table border=\"1\" class=\"dataframe\">\n",
       "  <thead>\n",
       "    <tr style=\"text-align: right;\">\n",
       "      <th></th>\n",
       "      <th>UID</th>\n",
       "      <th>CenterId</th>\n",
       "      <th>StudentName</th>\n",
       "      <th>SchoolName</th>\n",
       "      <th>SchoolGrade</th>\n",
       "      <th>SchoolLevel</th>\n",
       "      <th>StudentGrade</th>\n",
       "      <th>Address</th>\n",
       "      <th>Address2</th>\n",
       "      <th>StudentStatus</th>\n",
       "      <th>cs_count</th>\n",
       "      <th>max_sche_date</th>\n",
       "      <th>withdraw_csl_count</th>\n",
       "      <th>remain_csl_count</th>\n",
       "      <th>supply_count</th>\n",
       "      <th>clinic_count</th>\n",
       "      <th>abs_count</th>\n",
       "      <th>pre_count</th>\n",
       "      <th>target</th>\n",
       "    </tr>\n",
       "  </thead>\n",
       "  <tbody>\n",
       "    <tr>\n",
       "      <th>0</th>\n",
       "      <td>00249736-53A0-4D68-8CB9-DFA306A33435</td>\n",
       "      <td>15</td>\n",
       "      <td>임현승</td>\n",
       "      <td>성동중학교</td>\n",
       "      <td>1학년</td>\n",
       "      <td>high</td>\n",
       "      <td>17</td>\n",
       "      <td>NaN</td>\n",
       "      <td>NaN</td>\n",
       "      <td>drop</td>\n",
       "      <td>5</td>\n",
       "      <td>2023-11-17</td>\n",
       "      <td>0</td>\n",
       "      <td>3</td>\n",
       "      <td>0</td>\n",
       "      <td>0</td>\n",
       "      <td>1</td>\n",
       "      <td>41</td>\n",
       "      <td>0</td>\n",
       "    </tr>\n",
       "    <tr>\n",
       "      <th>1</th>\n",
       "      <td>00515C99-00A6-444B-93A3-73D7BB0852E5</td>\n",
       "      <td>15</td>\n",
       "      <td>노해율</td>\n",
       "      <td>내성중학교</td>\n",
       "      <td>3학년</td>\n",
       "      <td>middle</td>\n",
       "      <td>16</td>\n",
       "      <td>부산 동래구 금정마을로 135-9(동래 래미안 아이파크)</td>\n",
       "      <td>2단지-5호차</td>\n",
       "      <td>present</td>\n",
       "      <td>5</td>\n",
       "      <td>2023-07-20</td>\n",
       "      <td>0</td>\n",
       "      <td>19</td>\n",
       "      <td>0</td>\n",
       "      <td>0</td>\n",
       "      <td>0</td>\n",
       "      <td>52</td>\n",
       "      <td>0</td>\n",
       "    </tr>\n",
       "    <tr>\n",
       "      <th>2</th>\n",
       "      <td>00600FC7-C7DE-40DE-AD7D-A1D94DD5D212</td>\n",
       "      <td>16</td>\n",
       "      <td>신아인</td>\n",
       "      <td>경일중학교</td>\n",
       "      <td>3학년</td>\n",
       "      <td>middle</td>\n",
       "      <td>16</td>\n",
       "      <td>부산 강서구 명지국제7로 110(더 힐 시그니처)</td>\n",
       "      <td>NaN</td>\n",
       "      <td>present</td>\n",
       "      <td>8</td>\n",
       "      <td>2024-02-15</td>\n",
       "      <td>0</td>\n",
       "      <td>0</td>\n",
       "      <td>0</td>\n",
       "      <td>0</td>\n",
       "      <td>0</td>\n",
       "      <td>0</td>\n",
       "      <td>1</td>\n",
       "    </tr>\n",
       "    <tr>\n",
       "      <th>3</th>\n",
       "      <td>0063DEBD-095C-4804-A246-7EDD5160419A</td>\n",
       "      <td>14</td>\n",
       "      <td>손태윤</td>\n",
       "      <td>브니엘예술중학교</td>\n",
       "      <td>3학년</td>\n",
       "      <td>middle</td>\n",
       "      <td>16</td>\n",
       "      <td>NaN</td>\n",
       "      <td>NaN</td>\n",
       "      <td>drop</td>\n",
       "      <td>2</td>\n",
       "      <td>2023-10-01</td>\n",
       "      <td>0</td>\n",
       "      <td>0</td>\n",
       "      <td>0</td>\n",
       "      <td>0</td>\n",
       "      <td>0</td>\n",
       "      <td>6</td>\n",
       "      <td>0</td>\n",
       "    </tr>\n",
       "    <tr>\n",
       "      <th>4</th>\n",
       "      <td>007378EC-9A44-4A75-8B1A-70D13FBE7832</td>\n",
       "      <td>16</td>\n",
       "      <td>오주안</td>\n",
       "      <td>오션중학교</td>\n",
       "      <td>3학년</td>\n",
       "      <td>middle</td>\n",
       "      <td>16</td>\n",
       "      <td>NaN</td>\n",
       "      <td>명지 오션 11로 87</td>\n",
       "      <td>present</td>\n",
       "      <td>29</td>\n",
       "      <td>2024-02-15</td>\n",
       "      <td>0</td>\n",
       "      <td>23</td>\n",
       "      <td>0</td>\n",
       "      <td>0</td>\n",
       "      <td>1</td>\n",
       "      <td>278</td>\n",
       "      <td>1</td>\n",
       "    </tr>\n",
       "  </tbody>\n",
       "</table>\n",
       "</div>"
      ],
      "text/plain": [
       "                                    UID  CenterId StudentName SchoolName  \\\n",
       "0  00249736-53A0-4D68-8CB9-DFA306A33435        15         임현승      성동중학교   \n",
       "1  00515C99-00A6-444B-93A3-73D7BB0852E5        15         노해율      내성중학교   \n",
       "2  00600FC7-C7DE-40DE-AD7D-A1D94DD5D212        16         신아인      경일중학교   \n",
       "3  0063DEBD-095C-4804-A246-7EDD5160419A        14         손태윤   브니엘예술중학교   \n",
       "4  007378EC-9A44-4A75-8B1A-70D13FBE7832        16         오주안      오션중학교   \n",
       "\n",
       "  SchoolGrade SchoolLevel  StudentGrade                          Address  \\\n",
       "0         1학년        high            17                              NaN   \n",
       "1         3학년      middle            16  부산 동래구 금정마을로 135-9(동래 래미안 아이파크)   \n",
       "2         3학년      middle            16      부산 강서구 명지국제7로 110(더 힐 시그니처)   \n",
       "3         3학년      middle            16                              NaN   \n",
       "4         3학년      middle            16                              NaN   \n",
       "\n",
       "       Address2 StudentStatus  cs_count max_sche_date  withdraw_csl_count  \\\n",
       "0           NaN          drop         5    2023-11-17                   0   \n",
       "1       2단지-5호차       present         5    2023-07-20                   0   \n",
       "2           NaN       present         8    2024-02-15                   0   \n",
       "3           NaN          drop         2    2023-10-01                   0   \n",
       "4  명지 오션 11로 87       present        29    2024-02-15                   0   \n",
       "\n",
       "   remain_csl_count  supply_count  clinic_count  abs_count  pre_count  target  \n",
       "0                 3             0             0          1         41       0  \n",
       "1                19             0             0          0         52       0  \n",
       "2                 0             0             0          0          0       1  \n",
       "3                 0             0             0          0          6       0  \n",
       "4                23             0             0          1        278       1  "
      ]
     },
     "execution_count": 3,
     "metadata": {},
     "output_type": "execute_result"
    }
   ],
   "source": [
    "df = pd.read_excel('./data/wpdb.xlsx')\n",
    "df.head()"
   ]
  },
  {
   "cell_type": "markdown",
   "id": "835a33b1",
   "metadata": {},
   "source": [
    "### 03. 학습에 사용될 데이터와 예측 데이터 설정\n",
    "- 학습 데이터 X\n",
    "- 예측 데이터 y\n",
    "    - 0과 1의 값만 존재하며, 분류를 이용하여 예측 예정"
   ]
  },
  {
   "cell_type": "code",
   "execution_count": 4,
   "id": "9db4ca00",
   "metadata": {},
   "outputs": [
    {
     "data": {
      "text/html": [
       "<div>\n",
       "<style scoped>\n",
       "    .dataframe tbody tr th:only-of-type {\n",
       "        vertical-align: middle;\n",
       "    }\n",
       "\n",
       "    .dataframe tbody tr th {\n",
       "        vertical-align: top;\n",
       "    }\n",
       "\n",
       "    .dataframe thead th {\n",
       "        text-align: right;\n",
       "    }\n",
       "</style>\n",
       "<table border=\"1\" class=\"dataframe\">\n",
       "  <thead>\n",
       "    <tr style=\"text-align: right;\">\n",
       "      <th></th>\n",
       "      <th>StudentGrade</th>\n",
       "      <th>Address</th>\n",
       "      <th>Address2</th>\n",
       "      <th>StudentStatus</th>\n",
       "      <th>cs_count</th>\n",
       "      <th>max_sche_date</th>\n",
       "      <th>withdraw_csl_count</th>\n",
       "      <th>remain_csl_count</th>\n",
       "      <th>supply_count</th>\n",
       "      <th>clinic_count</th>\n",
       "      <th>abs_count</th>\n",
       "      <th>pre_count</th>\n",
       "      <th>target</th>\n",
       "    </tr>\n",
       "  </thead>\n",
       "  <tbody>\n",
       "    <tr>\n",
       "      <th>0</th>\n",
       "      <td>17</td>\n",
       "      <td>NaN</td>\n",
       "      <td>NaN</td>\n",
       "      <td>drop</td>\n",
       "      <td>5</td>\n",
       "      <td>2023-11-17</td>\n",
       "      <td>0</td>\n",
       "      <td>3</td>\n",
       "      <td>0</td>\n",
       "      <td>0</td>\n",
       "      <td>1</td>\n",
       "      <td>41</td>\n",
       "      <td>0</td>\n",
       "    </tr>\n",
       "    <tr>\n",
       "      <th>1</th>\n",
       "      <td>16</td>\n",
       "      <td>부산 동래구 금정마을로 135-9(동래 래미안 아이파크)</td>\n",
       "      <td>2단지-5호차</td>\n",
       "      <td>present</td>\n",
       "      <td>5</td>\n",
       "      <td>2023-07-20</td>\n",
       "      <td>0</td>\n",
       "      <td>19</td>\n",
       "      <td>0</td>\n",
       "      <td>0</td>\n",
       "      <td>0</td>\n",
       "      <td>52</td>\n",
       "      <td>0</td>\n",
       "    </tr>\n",
       "    <tr>\n",
       "      <th>2</th>\n",
       "      <td>16</td>\n",
       "      <td>부산 강서구 명지국제7로 110(더 힐 시그니처)</td>\n",
       "      <td>NaN</td>\n",
       "      <td>present</td>\n",
       "      <td>8</td>\n",
       "      <td>2024-02-15</td>\n",
       "      <td>0</td>\n",
       "      <td>0</td>\n",
       "      <td>0</td>\n",
       "      <td>0</td>\n",
       "      <td>0</td>\n",
       "      <td>0</td>\n",
       "      <td>1</td>\n",
       "    </tr>\n",
       "    <tr>\n",
       "      <th>3</th>\n",
       "      <td>16</td>\n",
       "      <td>NaN</td>\n",
       "      <td>NaN</td>\n",
       "      <td>drop</td>\n",
       "      <td>2</td>\n",
       "      <td>2023-10-01</td>\n",
       "      <td>0</td>\n",
       "      <td>0</td>\n",
       "      <td>0</td>\n",
       "      <td>0</td>\n",
       "      <td>0</td>\n",
       "      <td>6</td>\n",
       "      <td>0</td>\n",
       "    </tr>\n",
       "    <tr>\n",
       "      <th>4</th>\n",
       "      <td>16</td>\n",
       "      <td>NaN</td>\n",
       "      <td>명지 오션 11로 87</td>\n",
       "      <td>present</td>\n",
       "      <td>29</td>\n",
       "      <td>2024-02-15</td>\n",
       "      <td>0</td>\n",
       "      <td>23</td>\n",
       "      <td>0</td>\n",
       "      <td>0</td>\n",
       "      <td>1</td>\n",
       "      <td>278</td>\n",
       "      <td>1</td>\n",
       "    </tr>\n",
       "  </tbody>\n",
       "</table>\n",
       "</div>"
      ],
      "text/plain": [
       "   StudentGrade                          Address      Address2 StudentStatus  \\\n",
       "0            17                              NaN           NaN          drop   \n",
       "1            16  부산 동래구 금정마을로 135-9(동래 래미안 아이파크)       2단지-5호차       present   \n",
       "2            16      부산 강서구 명지국제7로 110(더 힐 시그니처)           NaN       present   \n",
       "3            16                              NaN           NaN          drop   \n",
       "4            16                              NaN  명지 오션 11로 87       present   \n",
       "\n",
       "   cs_count max_sche_date  withdraw_csl_count  remain_csl_count  supply_count  \\\n",
       "0         5    2023-11-17                   0                 3             0   \n",
       "1         5    2023-07-20                   0                19             0   \n",
       "2         8    2024-02-15                   0                 0             0   \n",
       "3         2    2023-10-01                   0                 0             0   \n",
       "4        29    2024-02-15                   0                23             0   \n",
       "\n",
       "   clinic_count  abs_count  pre_count  target  \n",
       "0             0          1         41       0  \n",
       "1             0          0         52       0  \n",
       "2             0          0          0       1  \n",
       "3             0          0          6       0  \n",
       "4             0          1        278       1  "
      ]
     },
     "execution_count": 4,
     "metadata": {},
     "output_type": "execute_result"
    }
   ],
   "source": [
    "X=df[df.columns[6:]]\n",
    "X.head()"
   ]
  },
  {
   "cell_type": "code",
   "execution_count": 5,
   "id": "84e25d2b",
   "metadata": {},
   "outputs": [
    {
     "data": {
      "text/html": [
       "<div>\n",
       "<style scoped>\n",
       "    .dataframe tbody tr th:only-of-type {\n",
       "        vertical-align: middle;\n",
       "    }\n",
       "\n",
       "    .dataframe tbody tr th {\n",
       "        vertical-align: top;\n",
       "    }\n",
       "\n",
       "    .dataframe thead th {\n",
       "        text-align: right;\n",
       "    }\n",
       "</style>\n",
       "<table border=\"1\" class=\"dataframe\">\n",
       "  <thead>\n",
       "    <tr style=\"text-align: right;\">\n",
       "      <th></th>\n",
       "      <th>StudentGrade</th>\n",
       "      <th>cs_count</th>\n",
       "      <th>withdraw_csl_count</th>\n",
       "      <th>remain_csl_count</th>\n",
       "      <th>supply_count</th>\n",
       "      <th>clinic_count</th>\n",
       "      <th>abs_count</th>\n",
       "      <th>pre_count</th>\n",
       "      <th>target</th>\n",
       "    </tr>\n",
       "  </thead>\n",
       "  <tbody>\n",
       "    <tr>\n",
       "      <th>0</th>\n",
       "      <td>17</td>\n",
       "      <td>5</td>\n",
       "      <td>0</td>\n",
       "      <td>3</td>\n",
       "      <td>0</td>\n",
       "      <td>0</td>\n",
       "      <td>1</td>\n",
       "      <td>41</td>\n",
       "      <td>0</td>\n",
       "    </tr>\n",
       "    <tr>\n",
       "      <th>1</th>\n",
       "      <td>16</td>\n",
       "      <td>5</td>\n",
       "      <td>0</td>\n",
       "      <td>19</td>\n",
       "      <td>0</td>\n",
       "      <td>0</td>\n",
       "      <td>0</td>\n",
       "      <td>52</td>\n",
       "      <td>0</td>\n",
       "    </tr>\n",
       "    <tr>\n",
       "      <th>2</th>\n",
       "      <td>16</td>\n",
       "      <td>8</td>\n",
       "      <td>0</td>\n",
       "      <td>0</td>\n",
       "      <td>0</td>\n",
       "      <td>0</td>\n",
       "      <td>0</td>\n",
       "      <td>0</td>\n",
       "      <td>1</td>\n",
       "    </tr>\n",
       "    <tr>\n",
       "      <th>3</th>\n",
       "      <td>16</td>\n",
       "      <td>2</td>\n",
       "      <td>0</td>\n",
       "      <td>0</td>\n",
       "      <td>0</td>\n",
       "      <td>0</td>\n",
       "      <td>0</td>\n",
       "      <td>6</td>\n",
       "      <td>0</td>\n",
       "    </tr>\n",
       "    <tr>\n",
       "      <th>4</th>\n",
       "      <td>16</td>\n",
       "      <td>29</td>\n",
       "      <td>0</td>\n",
       "      <td>23</td>\n",
       "      <td>0</td>\n",
       "      <td>0</td>\n",
       "      <td>1</td>\n",
       "      <td>278</td>\n",
       "      <td>1</td>\n",
       "    </tr>\n",
       "    <tr>\n",
       "      <th>...</th>\n",
       "      <td>...</td>\n",
       "      <td>...</td>\n",
       "      <td>...</td>\n",
       "      <td>...</td>\n",
       "      <td>...</td>\n",
       "      <td>...</td>\n",
       "      <td>...</td>\n",
       "      <td>...</td>\n",
       "      <td>...</td>\n",
       "    </tr>\n",
       "    <tr>\n",
       "      <th>2492</th>\n",
       "      <td>15</td>\n",
       "      <td>2</td>\n",
       "      <td>1</td>\n",
       "      <td>20</td>\n",
       "      <td>0</td>\n",
       "      <td>0</td>\n",
       "      <td>0</td>\n",
       "      <td>64</td>\n",
       "      <td>1</td>\n",
       "    </tr>\n",
       "    <tr>\n",
       "      <th>2493</th>\n",
       "      <td>16</td>\n",
       "      <td>9</td>\n",
       "      <td>0</td>\n",
       "      <td>0</td>\n",
       "      <td>0</td>\n",
       "      <td>0</td>\n",
       "      <td>0</td>\n",
       "      <td>0</td>\n",
       "      <td>1</td>\n",
       "    </tr>\n",
       "    <tr>\n",
       "      <th>2494</th>\n",
       "      <td>16</td>\n",
       "      <td>3</td>\n",
       "      <td>1</td>\n",
       "      <td>9</td>\n",
       "      <td>0</td>\n",
       "      <td>0</td>\n",
       "      <td>0</td>\n",
       "      <td>23</td>\n",
       "      <td>0</td>\n",
       "    </tr>\n",
       "    <tr>\n",
       "      <th>2495</th>\n",
       "      <td>17</td>\n",
       "      <td>6</td>\n",
       "      <td>0</td>\n",
       "      <td>0</td>\n",
       "      <td>0</td>\n",
       "      <td>0</td>\n",
       "      <td>0</td>\n",
       "      <td>0</td>\n",
       "      <td>1</td>\n",
       "    </tr>\n",
       "    <tr>\n",
       "      <th>2496</th>\n",
       "      <td>17</td>\n",
       "      <td>9</td>\n",
       "      <td>0</td>\n",
       "      <td>12</td>\n",
       "      <td>0</td>\n",
       "      <td>0</td>\n",
       "      <td>13</td>\n",
       "      <td>65</td>\n",
       "      <td>0</td>\n",
       "    </tr>\n",
       "  </tbody>\n",
       "</table>\n",
       "<p>2497 rows × 9 columns</p>\n",
       "</div>"
      ],
      "text/plain": [
       "      StudentGrade  cs_count  withdraw_csl_count  remain_csl_count  \\\n",
       "0               17         5                   0                 3   \n",
       "1               16         5                   0                19   \n",
       "2               16         8                   0                 0   \n",
       "3               16         2                   0                 0   \n",
       "4               16        29                   0                23   \n",
       "...            ...       ...                 ...               ...   \n",
       "2492            15         2                   1                20   \n",
       "2493            16         9                   0                 0   \n",
       "2494            16         3                   1                 9   \n",
       "2495            17         6                   0                 0   \n",
       "2496            17         9                   0                12   \n",
       "\n",
       "      supply_count  clinic_count  abs_count  pre_count  target  \n",
       "0                0             0          1         41       0  \n",
       "1                0             0          0         52       0  \n",
       "2                0             0          0          0       1  \n",
       "3                0             0          0          6       0  \n",
       "4                0             0          1        278       1  \n",
       "...            ...           ...        ...        ...     ...  \n",
       "2492             0             0          0         64       1  \n",
       "2493             0             0          0          0       1  \n",
       "2494             0             0          0         23       0  \n",
       "2495             0             0          0          0       1  \n",
       "2496             0             0         13         65       0  \n",
       "\n",
       "[2497 rows x 9 columns]"
      ]
     },
     "execution_count": 5,
     "metadata": {},
     "output_type": "execute_result"
    }
   ],
   "source": [
    "X = X.drop(columns = ['Address','Address2', 'max_sche_date', 'StudentStatus'])\n",
    "X"
   ]
  },
  {
   "cell_type": "markdown",
   "id": "1f4bda64",
   "metadata": {},
   "source": [
    "### 04. 나이 데이터 0, 1, 2로 변환"
   ]
  },
  {
   "cell_type": "code",
   "execution_count": 6,
   "id": "52a21ae7",
   "metadata": {},
   "outputs": [],
   "source": [
    "X['StudentGrade'].replace({15: 0, 16: 1, 17:2}, inplace=True)"
   ]
  },
  {
   "cell_type": "code",
   "execution_count": 7,
   "id": "84adc8bb",
   "metadata": {
    "scrolled": true
   },
   "outputs": [
    {
     "data": {
      "text/html": [
       "<div>\n",
       "<style scoped>\n",
       "    .dataframe tbody tr th:only-of-type {\n",
       "        vertical-align: middle;\n",
       "    }\n",
       "\n",
       "    .dataframe tbody tr th {\n",
       "        vertical-align: top;\n",
       "    }\n",
       "\n",
       "    .dataframe thead th {\n",
       "        text-align: right;\n",
       "    }\n",
       "</style>\n",
       "<table border=\"1\" class=\"dataframe\">\n",
       "  <thead>\n",
       "    <tr style=\"text-align: right;\">\n",
       "      <th></th>\n",
       "      <th>StudentGrade</th>\n",
       "      <th>cs_count</th>\n",
       "      <th>withdraw_csl_count</th>\n",
       "      <th>remain_csl_count</th>\n",
       "      <th>supply_count</th>\n",
       "      <th>clinic_count</th>\n",
       "      <th>abs_count</th>\n",
       "      <th>pre_count</th>\n",
       "      <th>target</th>\n",
       "    </tr>\n",
       "  </thead>\n",
       "  <tbody>\n",
       "    <tr>\n",
       "      <th>0</th>\n",
       "      <td>2</td>\n",
       "      <td>5</td>\n",
       "      <td>0</td>\n",
       "      <td>3</td>\n",
       "      <td>0</td>\n",
       "      <td>0</td>\n",
       "      <td>1</td>\n",
       "      <td>41</td>\n",
       "      <td>0</td>\n",
       "    </tr>\n",
       "    <tr>\n",
       "      <th>1</th>\n",
       "      <td>1</td>\n",
       "      <td>5</td>\n",
       "      <td>0</td>\n",
       "      <td>19</td>\n",
       "      <td>0</td>\n",
       "      <td>0</td>\n",
       "      <td>0</td>\n",
       "      <td>52</td>\n",
       "      <td>0</td>\n",
       "    </tr>\n",
       "    <tr>\n",
       "      <th>2</th>\n",
       "      <td>1</td>\n",
       "      <td>8</td>\n",
       "      <td>0</td>\n",
       "      <td>0</td>\n",
       "      <td>0</td>\n",
       "      <td>0</td>\n",
       "      <td>0</td>\n",
       "      <td>0</td>\n",
       "      <td>1</td>\n",
       "    </tr>\n",
       "    <tr>\n",
       "      <th>3</th>\n",
       "      <td>1</td>\n",
       "      <td>2</td>\n",
       "      <td>0</td>\n",
       "      <td>0</td>\n",
       "      <td>0</td>\n",
       "      <td>0</td>\n",
       "      <td>0</td>\n",
       "      <td>6</td>\n",
       "      <td>0</td>\n",
       "    </tr>\n",
       "    <tr>\n",
       "      <th>4</th>\n",
       "      <td>1</td>\n",
       "      <td>29</td>\n",
       "      <td>0</td>\n",
       "      <td>23</td>\n",
       "      <td>0</td>\n",
       "      <td>0</td>\n",
       "      <td>1</td>\n",
       "      <td>278</td>\n",
       "      <td>1</td>\n",
       "    </tr>\n",
       "    <tr>\n",
       "      <th>...</th>\n",
       "      <td>...</td>\n",
       "      <td>...</td>\n",
       "      <td>...</td>\n",
       "      <td>...</td>\n",
       "      <td>...</td>\n",
       "      <td>...</td>\n",
       "      <td>...</td>\n",
       "      <td>...</td>\n",
       "      <td>...</td>\n",
       "    </tr>\n",
       "    <tr>\n",
       "      <th>2492</th>\n",
       "      <td>0</td>\n",
       "      <td>2</td>\n",
       "      <td>1</td>\n",
       "      <td>20</td>\n",
       "      <td>0</td>\n",
       "      <td>0</td>\n",
       "      <td>0</td>\n",
       "      <td>64</td>\n",
       "      <td>1</td>\n",
       "    </tr>\n",
       "    <tr>\n",
       "      <th>2493</th>\n",
       "      <td>1</td>\n",
       "      <td>9</td>\n",
       "      <td>0</td>\n",
       "      <td>0</td>\n",
       "      <td>0</td>\n",
       "      <td>0</td>\n",
       "      <td>0</td>\n",
       "      <td>0</td>\n",
       "      <td>1</td>\n",
       "    </tr>\n",
       "    <tr>\n",
       "      <th>2494</th>\n",
       "      <td>1</td>\n",
       "      <td>3</td>\n",
       "      <td>1</td>\n",
       "      <td>9</td>\n",
       "      <td>0</td>\n",
       "      <td>0</td>\n",
       "      <td>0</td>\n",
       "      <td>23</td>\n",
       "      <td>0</td>\n",
       "    </tr>\n",
       "    <tr>\n",
       "      <th>2495</th>\n",
       "      <td>2</td>\n",
       "      <td>6</td>\n",
       "      <td>0</td>\n",
       "      <td>0</td>\n",
       "      <td>0</td>\n",
       "      <td>0</td>\n",
       "      <td>0</td>\n",
       "      <td>0</td>\n",
       "      <td>1</td>\n",
       "    </tr>\n",
       "    <tr>\n",
       "      <th>2496</th>\n",
       "      <td>2</td>\n",
       "      <td>9</td>\n",
       "      <td>0</td>\n",
       "      <td>12</td>\n",
       "      <td>0</td>\n",
       "      <td>0</td>\n",
       "      <td>13</td>\n",
       "      <td>65</td>\n",
       "      <td>0</td>\n",
       "    </tr>\n",
       "  </tbody>\n",
       "</table>\n",
       "<p>2497 rows × 9 columns</p>\n",
       "</div>"
      ],
      "text/plain": [
       "      StudentGrade  cs_count  withdraw_csl_count  remain_csl_count  \\\n",
       "0                2         5                   0                 3   \n",
       "1                1         5                   0                19   \n",
       "2                1         8                   0                 0   \n",
       "3                1         2                   0                 0   \n",
       "4                1        29                   0                23   \n",
       "...            ...       ...                 ...               ...   \n",
       "2492             0         2                   1                20   \n",
       "2493             1         9                   0                 0   \n",
       "2494             1         3                   1                 9   \n",
       "2495             2         6                   0                 0   \n",
       "2496             2         9                   0                12   \n",
       "\n",
       "      supply_count  clinic_count  abs_count  pre_count  target  \n",
       "0                0             0          1         41       0  \n",
       "1                0             0          0         52       0  \n",
       "2                0             0          0          0       1  \n",
       "3                0             0          0          6       0  \n",
       "4                0             0          1        278       1  \n",
       "...            ...           ...        ...        ...     ...  \n",
       "2492             0             0          0         64       1  \n",
       "2493             0             0          0          0       1  \n",
       "2494             0             0          0         23       0  \n",
       "2495             0             0          0          0       1  \n",
       "2496             0             0         13         65       0  \n",
       "\n",
       "[2497 rows x 9 columns]"
      ]
     },
     "execution_count": 7,
     "metadata": {},
     "output_type": "execute_result"
    }
   ],
   "source": [
    "X"
   ]
  },
  {
   "cell_type": "code",
   "execution_count": 8,
   "id": "24533ba2",
   "metadata": {
    "scrolled": true
   },
   "outputs": [
    {
     "data": {
      "text/html": [
       "<div>\n",
       "<style scoped>\n",
       "    .dataframe tbody tr th:only-of-type {\n",
       "        vertical-align: middle;\n",
       "    }\n",
       "\n",
       "    .dataframe tbody tr th {\n",
       "        vertical-align: top;\n",
       "    }\n",
       "\n",
       "    .dataframe thead th {\n",
       "        text-align: right;\n",
       "    }\n",
       "</style>\n",
       "<table border=\"1\" class=\"dataframe\">\n",
       "  <thead>\n",
       "    <tr style=\"text-align: right;\">\n",
       "      <th></th>\n",
       "      <th>StudentGrade</th>\n",
       "      <th>cs_count</th>\n",
       "      <th>withdraw_csl_count</th>\n",
       "      <th>remain_csl_count</th>\n",
       "      <th>supply_count</th>\n",
       "      <th>clinic_count</th>\n",
       "      <th>abs_count</th>\n",
       "      <th>pre_count</th>\n",
       "      <th>target</th>\n",
       "    </tr>\n",
       "  </thead>\n",
       "  <tbody>\n",
       "    <tr>\n",
       "      <th>count</th>\n",
       "      <td>2497.000000</td>\n",
       "      <td>2497.000000</td>\n",
       "      <td>2497.000000</td>\n",
       "      <td>2497.000000</td>\n",
       "      <td>2497.000000</td>\n",
       "      <td>2497.000000</td>\n",
       "      <td>2497.000000</td>\n",
       "      <td>2497.000000</td>\n",
       "      <td>2497.000000</td>\n",
       "    </tr>\n",
       "    <tr>\n",
       "      <th>mean</th>\n",
       "      <td>1.080497</td>\n",
       "      <td>10.095715</td>\n",
       "      <td>0.236684</td>\n",
       "      <td>8.060473</td>\n",
       "      <td>0.010813</td>\n",
       "      <td>0.028835</td>\n",
       "      <td>2.785342</td>\n",
       "      <td>64.474169</td>\n",
       "      <td>0.567080</td>\n",
       "    </tr>\n",
       "    <tr>\n",
       "      <th>std</th>\n",
       "      <td>0.822076</td>\n",
       "      <td>10.497140</td>\n",
       "      <td>0.648321</td>\n",
       "      <td>9.690521</td>\n",
       "      <td>0.130807</td>\n",
       "      <td>0.447538</td>\n",
       "      <td>5.310735</td>\n",
       "      <td>80.639647</td>\n",
       "      <td>0.495579</td>\n",
       "    </tr>\n",
       "    <tr>\n",
       "      <th>min</th>\n",
       "      <td>0.000000</td>\n",
       "      <td>1.000000</td>\n",
       "      <td>0.000000</td>\n",
       "      <td>0.000000</td>\n",
       "      <td>0.000000</td>\n",
       "      <td>0.000000</td>\n",
       "      <td>0.000000</td>\n",
       "      <td>0.000000</td>\n",
       "      <td>0.000000</td>\n",
       "    </tr>\n",
       "    <tr>\n",
       "      <th>25%</th>\n",
       "      <td>0.000000</td>\n",
       "      <td>2.000000</td>\n",
       "      <td>0.000000</td>\n",
       "      <td>1.000000</td>\n",
       "      <td>0.000000</td>\n",
       "      <td>0.000000</td>\n",
       "      <td>0.000000</td>\n",
       "      <td>4.000000</td>\n",
       "      <td>0.000000</td>\n",
       "    </tr>\n",
       "    <tr>\n",
       "      <th>50%</th>\n",
       "      <td>1.000000</td>\n",
       "      <td>6.000000</td>\n",
       "      <td>0.000000</td>\n",
       "      <td>4.000000</td>\n",
       "      <td>0.000000</td>\n",
       "      <td>0.000000</td>\n",
       "      <td>0.000000</td>\n",
       "      <td>31.000000</td>\n",
       "      <td>1.000000</td>\n",
       "    </tr>\n",
       "    <tr>\n",
       "      <th>75%</th>\n",
       "      <td>2.000000</td>\n",
       "      <td>14.000000</td>\n",
       "      <td>0.000000</td>\n",
       "      <td>13.000000</td>\n",
       "      <td>0.000000</td>\n",
       "      <td>0.000000</td>\n",
       "      <td>3.000000</td>\n",
       "      <td>95.000000</td>\n",
       "      <td>1.000000</td>\n",
       "    </tr>\n",
       "    <tr>\n",
       "      <th>max</th>\n",
       "      <td>2.000000</td>\n",
       "      <td>62.000000</td>\n",
       "      <td>19.000000</td>\n",
       "      <td>64.000000</td>\n",
       "      <td>2.000000</td>\n",
       "      <td>11.000000</td>\n",
       "      <td>54.000000</td>\n",
       "      <td>396.000000</td>\n",
       "      <td>1.000000</td>\n",
       "    </tr>\n",
       "  </tbody>\n",
       "</table>\n",
       "</div>"
      ],
      "text/plain": [
       "       StudentGrade     cs_count  withdraw_csl_count  remain_csl_count  \\\n",
       "count   2497.000000  2497.000000         2497.000000       2497.000000   \n",
       "mean       1.080497    10.095715            0.236684          8.060473   \n",
       "std        0.822076    10.497140            0.648321          9.690521   \n",
       "min        0.000000     1.000000            0.000000          0.000000   \n",
       "25%        0.000000     2.000000            0.000000          1.000000   \n",
       "50%        1.000000     6.000000            0.000000          4.000000   \n",
       "75%        2.000000    14.000000            0.000000         13.000000   \n",
       "max        2.000000    62.000000           19.000000         64.000000   \n",
       "\n",
       "       supply_count  clinic_count    abs_count    pre_count       target  \n",
       "count   2497.000000   2497.000000  2497.000000  2497.000000  2497.000000  \n",
       "mean       0.010813      0.028835     2.785342    64.474169     0.567080  \n",
       "std        0.130807      0.447538     5.310735    80.639647     0.495579  \n",
       "min        0.000000      0.000000     0.000000     0.000000     0.000000  \n",
       "25%        0.000000      0.000000     0.000000     4.000000     0.000000  \n",
       "50%        0.000000      0.000000     0.000000    31.000000     1.000000  \n",
       "75%        0.000000      0.000000     3.000000    95.000000     1.000000  \n",
       "max        2.000000     11.000000    54.000000   396.000000     1.000000  "
      ]
     },
     "execution_count": 8,
     "metadata": {},
     "output_type": "execute_result"
    }
   ],
   "source": [
    "pd.DataFrame(X).describe()"
   ]
  },
  {
   "cell_type": "code",
   "execution_count": 9,
   "id": "2ae328ed",
   "metadata": {},
   "outputs": [
    {
     "name": "stdout",
     "output_type": "stream",
     "text": [
      "(2497, 9)\n"
     ]
    },
    {
     "data": {
      "text/plain": [
       "pandas.core.frame.DataFrame"
      ]
     },
     "execution_count": 9,
     "metadata": {},
     "output_type": "execute_result"
    }
   ],
   "source": [
    "print(X.shape)\n",
    "type(X)"
   ]
  },
  {
   "cell_type": "code",
   "execution_count": 10,
   "id": "0dc88186",
   "metadata": {},
   "outputs": [
    {
     "data": {
      "text/plain": [
       "0       0\n",
       "1       0\n",
       "2       1\n",
       "3       0\n",
       "4       1\n",
       "       ..\n",
       "2492    1\n",
       "2493    1\n",
       "2494    0\n",
       "2495    1\n",
       "2496    0\n",
       "Name: target, Length: 2497, dtype: int64"
      ]
     },
     "execution_count": 10,
     "metadata": {},
     "output_type": "execute_result"
    }
   ],
   "source": [
    "# 정답(레이블) 설정\n",
    "y = X['target']\n",
    "y # 0과 1로 구분, 1:재원 / 0:퇴원"
   ]
  },
  {
   "cell_type": "code",
   "execution_count": 11,
   "id": "570867a7",
   "metadata": {},
   "outputs": [
    {
     "name": "stdout",
     "output_type": "stream",
     "text": [
      "(2497,)\n"
     ]
    }
   ],
   "source": [
    "print(y.shape)"
   ]
  },
  {
   "cell_type": "code",
   "execution_count": 12,
   "id": "a9b68536",
   "metadata": {},
   "outputs": [
    {
     "data": {
      "text/plain": [
       "target\n",
       "1    1416\n",
       "0    1081\n",
       "Name: count, dtype: int64"
      ]
     },
     "execution_count": 12,
     "metadata": {},
     "output_type": "execute_result"
    }
   ],
   "source": [
    "y.value_counts()"
   ]
  },
  {
   "cell_type": "code",
   "execution_count": 13,
   "id": "01ccd9c4",
   "metadata": {},
   "outputs": [
    {
     "name": "stdout",
     "output_type": "stream",
     "text": [
      "target\n",
      "1    0.56708\n",
      "0    0.43292\n",
      "Name: count, dtype: float64\n"
     ]
    }
   ],
   "source": [
    "print(y.value_counts()/len(y))"
   ]
  },
  {
   "cell_type": "code",
   "execution_count": 14,
   "id": "0d9d7a24",
   "metadata": {},
   "outputs": [],
   "source": [
    "X = X.drop(columns = ['target'])"
   ]
  },
  {
   "cell_type": "code",
   "execution_count": 15,
   "id": "56894f0d",
   "metadata": {},
   "outputs": [
    {
     "data": {
      "text/html": [
       "<div>\n",
       "<style scoped>\n",
       "    .dataframe tbody tr th:only-of-type {\n",
       "        vertical-align: middle;\n",
       "    }\n",
       "\n",
       "    .dataframe tbody tr th {\n",
       "        vertical-align: top;\n",
       "    }\n",
       "\n",
       "    .dataframe thead th {\n",
       "        text-align: right;\n",
       "    }\n",
       "</style>\n",
       "<table border=\"1\" class=\"dataframe\">\n",
       "  <thead>\n",
       "    <tr style=\"text-align: right;\">\n",
       "      <th></th>\n",
       "      <th>StudentGrade</th>\n",
       "      <th>cs_count</th>\n",
       "      <th>withdraw_csl_count</th>\n",
       "      <th>remain_csl_count</th>\n",
       "      <th>supply_count</th>\n",
       "      <th>clinic_count</th>\n",
       "      <th>abs_count</th>\n",
       "      <th>pre_count</th>\n",
       "    </tr>\n",
       "  </thead>\n",
       "  <tbody>\n",
       "    <tr>\n",
       "      <th>0</th>\n",
       "      <td>2</td>\n",
       "      <td>5</td>\n",
       "      <td>0</td>\n",
       "      <td>3</td>\n",
       "      <td>0</td>\n",
       "      <td>0</td>\n",
       "      <td>1</td>\n",
       "      <td>41</td>\n",
       "    </tr>\n",
       "    <tr>\n",
       "      <th>1</th>\n",
       "      <td>1</td>\n",
       "      <td>5</td>\n",
       "      <td>0</td>\n",
       "      <td>19</td>\n",
       "      <td>0</td>\n",
       "      <td>0</td>\n",
       "      <td>0</td>\n",
       "      <td>52</td>\n",
       "    </tr>\n",
       "    <tr>\n",
       "      <th>2</th>\n",
       "      <td>1</td>\n",
       "      <td>8</td>\n",
       "      <td>0</td>\n",
       "      <td>0</td>\n",
       "      <td>0</td>\n",
       "      <td>0</td>\n",
       "      <td>0</td>\n",
       "      <td>0</td>\n",
       "    </tr>\n",
       "    <tr>\n",
       "      <th>3</th>\n",
       "      <td>1</td>\n",
       "      <td>2</td>\n",
       "      <td>0</td>\n",
       "      <td>0</td>\n",
       "      <td>0</td>\n",
       "      <td>0</td>\n",
       "      <td>0</td>\n",
       "      <td>6</td>\n",
       "    </tr>\n",
       "    <tr>\n",
       "      <th>4</th>\n",
       "      <td>1</td>\n",
       "      <td>29</td>\n",
       "      <td>0</td>\n",
       "      <td>23</td>\n",
       "      <td>0</td>\n",
       "      <td>0</td>\n",
       "      <td>1</td>\n",
       "      <td>278</td>\n",
       "    </tr>\n",
       "    <tr>\n",
       "      <th>...</th>\n",
       "      <td>...</td>\n",
       "      <td>...</td>\n",
       "      <td>...</td>\n",
       "      <td>...</td>\n",
       "      <td>...</td>\n",
       "      <td>...</td>\n",
       "      <td>...</td>\n",
       "      <td>...</td>\n",
       "    </tr>\n",
       "    <tr>\n",
       "      <th>2492</th>\n",
       "      <td>0</td>\n",
       "      <td>2</td>\n",
       "      <td>1</td>\n",
       "      <td>20</td>\n",
       "      <td>0</td>\n",
       "      <td>0</td>\n",
       "      <td>0</td>\n",
       "      <td>64</td>\n",
       "    </tr>\n",
       "    <tr>\n",
       "      <th>2493</th>\n",
       "      <td>1</td>\n",
       "      <td>9</td>\n",
       "      <td>0</td>\n",
       "      <td>0</td>\n",
       "      <td>0</td>\n",
       "      <td>0</td>\n",
       "      <td>0</td>\n",
       "      <td>0</td>\n",
       "    </tr>\n",
       "    <tr>\n",
       "      <th>2494</th>\n",
       "      <td>1</td>\n",
       "      <td>3</td>\n",
       "      <td>1</td>\n",
       "      <td>9</td>\n",
       "      <td>0</td>\n",
       "      <td>0</td>\n",
       "      <td>0</td>\n",
       "      <td>23</td>\n",
       "    </tr>\n",
       "    <tr>\n",
       "      <th>2495</th>\n",
       "      <td>2</td>\n",
       "      <td>6</td>\n",
       "      <td>0</td>\n",
       "      <td>0</td>\n",
       "      <td>0</td>\n",
       "      <td>0</td>\n",
       "      <td>0</td>\n",
       "      <td>0</td>\n",
       "    </tr>\n",
       "    <tr>\n",
       "      <th>2496</th>\n",
       "      <td>2</td>\n",
       "      <td>9</td>\n",
       "      <td>0</td>\n",
       "      <td>12</td>\n",
       "      <td>0</td>\n",
       "      <td>0</td>\n",
       "      <td>13</td>\n",
       "      <td>65</td>\n",
       "    </tr>\n",
       "  </tbody>\n",
       "</table>\n",
       "<p>2497 rows × 8 columns</p>\n",
       "</div>"
      ],
      "text/plain": [
       "      StudentGrade  cs_count  withdraw_csl_count  remain_csl_count  \\\n",
       "0                2         5                   0                 3   \n",
       "1                1         5                   0                19   \n",
       "2                1         8                   0                 0   \n",
       "3                1         2                   0                 0   \n",
       "4                1        29                   0                23   \n",
       "...            ...       ...                 ...               ...   \n",
       "2492             0         2                   1                20   \n",
       "2493             1         9                   0                 0   \n",
       "2494             1         3                   1                 9   \n",
       "2495             2         6                   0                 0   \n",
       "2496             2         9                   0                12   \n",
       "\n",
       "      supply_count  clinic_count  abs_count  pre_count  \n",
       "0                0             0          1         41  \n",
       "1                0             0          0         52  \n",
       "2                0             0          0          0  \n",
       "3                0             0          0          6  \n",
       "4                0             0          1        278  \n",
       "...            ...           ...        ...        ...  \n",
       "2492             0             0          0         64  \n",
       "2493             0             0          0          0  \n",
       "2494             0             0          0         23  \n",
       "2495             0             0          0          0  \n",
       "2496             0             0         13         65  \n",
       "\n",
       "[2497 rows x 8 columns]"
      ]
     },
     "execution_count": 15,
     "metadata": {},
     "output_type": "execute_result"
    }
   ],
   "source": [
    "X"
   ]
  },
  {
   "cell_type": "markdown",
   "id": "4ae093f9",
   "metadata": {},
   "source": [
    "### 05. 결측치 확인"
   ]
  },
  {
   "cell_type": "code",
   "execution_count": 16,
   "id": "c033abd3",
   "metadata": {},
   "outputs": [
    {
     "data": {
      "text/plain": [
       "StudentGrade          0\n",
       "cs_count              0\n",
       "withdraw_csl_count    0\n",
       "remain_csl_count      0\n",
       "supply_count          0\n",
       "clinic_count          0\n",
       "abs_count             0\n",
       "pre_count             0\n",
       "dtype: int64"
      ]
     },
     "execution_count": 16,
     "metadata": {},
     "output_type": "execute_result"
    }
   ],
   "source": [
    "X.isnull().sum()"
   ]
  },
  {
   "cell_type": "markdown",
   "id": "5b57d057",
   "metadata": {},
   "source": [
    "### 06. 데이터 정규화"
   ]
  },
  {
   "cell_type": "code",
   "execution_count": 17,
   "id": "9322b68d",
   "metadata": {},
   "outputs": [],
   "source": [
    "from sklearn.preprocessing import MinMaxScaler\n",
    "from sklearn.preprocessing import StandardScaler\n",
    "\n",
    "scaler_minmax=MinMaxScaler()\n",
    "scaler_standard=StandardScaler()"
   ]
  },
  {
   "cell_type": "markdown",
   "id": "f7e5ac42",
   "metadata": {},
   "source": [
    "### 1) 학습 데이터의 정규화"
   ]
  },
  {
   "cell_type": "code",
   "execution_count": 18,
   "id": "2eefb35b",
   "metadata": {},
   "outputs": [
    {
     "data": {
      "text/html": [
       "<div>\n",
       "<style scoped>\n",
       "    .dataframe tbody tr th:only-of-type {\n",
       "        vertical-align: middle;\n",
       "    }\n",
       "\n",
       "    .dataframe tbody tr th {\n",
       "        vertical-align: top;\n",
       "    }\n",
       "\n",
       "    .dataframe thead th {\n",
       "        text-align: right;\n",
       "    }\n",
       "</style>\n",
       "<table border=\"1\" class=\"dataframe\">\n",
       "  <thead>\n",
       "    <tr style=\"text-align: right;\">\n",
       "      <th></th>\n",
       "      <th>0</th>\n",
       "      <th>1</th>\n",
       "      <th>2</th>\n",
       "      <th>3</th>\n",
       "      <th>4</th>\n",
       "      <th>5</th>\n",
       "      <th>6</th>\n",
       "      <th>7</th>\n",
       "    </tr>\n",
       "  </thead>\n",
       "  <tbody>\n",
       "    <tr>\n",
       "      <th>count</th>\n",
       "      <td>2497.000000</td>\n",
       "      <td>2497.000000</td>\n",
       "      <td>2497.000000</td>\n",
       "      <td>2497.000000</td>\n",
       "      <td>2497.000000</td>\n",
       "      <td>2497.000000</td>\n",
       "      <td>2497.000000</td>\n",
       "      <td>2497.000000</td>\n",
       "    </tr>\n",
       "    <tr>\n",
       "      <th>mean</th>\n",
       "      <td>0.540248</td>\n",
       "      <td>0.149110</td>\n",
       "      <td>0.012457</td>\n",
       "      <td>0.125945</td>\n",
       "      <td>0.005406</td>\n",
       "      <td>0.002621</td>\n",
       "      <td>0.051580</td>\n",
       "      <td>0.162814</td>\n",
       "    </tr>\n",
       "    <tr>\n",
       "      <th>std</th>\n",
       "      <td>0.411038</td>\n",
       "      <td>0.172084</td>\n",
       "      <td>0.034122</td>\n",
       "      <td>0.151414</td>\n",
       "      <td>0.065404</td>\n",
       "      <td>0.040685</td>\n",
       "      <td>0.098347</td>\n",
       "      <td>0.203635</td>\n",
       "    </tr>\n",
       "    <tr>\n",
       "      <th>min</th>\n",
       "      <td>0.000000</td>\n",
       "      <td>0.000000</td>\n",
       "      <td>0.000000</td>\n",
       "      <td>0.000000</td>\n",
       "      <td>0.000000</td>\n",
       "      <td>0.000000</td>\n",
       "      <td>0.000000</td>\n",
       "      <td>0.000000</td>\n",
       "    </tr>\n",
       "    <tr>\n",
       "      <th>25%</th>\n",
       "      <td>0.000000</td>\n",
       "      <td>0.016393</td>\n",
       "      <td>0.000000</td>\n",
       "      <td>0.015625</td>\n",
       "      <td>0.000000</td>\n",
       "      <td>0.000000</td>\n",
       "      <td>0.000000</td>\n",
       "      <td>0.010101</td>\n",
       "    </tr>\n",
       "    <tr>\n",
       "      <th>50%</th>\n",
       "      <td>0.500000</td>\n",
       "      <td>0.081967</td>\n",
       "      <td>0.000000</td>\n",
       "      <td>0.062500</td>\n",
       "      <td>0.000000</td>\n",
       "      <td>0.000000</td>\n",
       "      <td>0.000000</td>\n",
       "      <td>0.078283</td>\n",
       "    </tr>\n",
       "    <tr>\n",
       "      <th>75%</th>\n",
       "      <td>1.000000</td>\n",
       "      <td>0.213115</td>\n",
       "      <td>0.000000</td>\n",
       "      <td>0.203125</td>\n",
       "      <td>0.000000</td>\n",
       "      <td>0.000000</td>\n",
       "      <td>0.055556</td>\n",
       "      <td>0.239899</td>\n",
       "    </tr>\n",
       "    <tr>\n",
       "      <th>max</th>\n",
       "      <td>1.000000</td>\n",
       "      <td>1.000000</td>\n",
       "      <td>1.000000</td>\n",
       "      <td>1.000000</td>\n",
       "      <td>1.000000</td>\n",
       "      <td>1.000000</td>\n",
       "      <td>1.000000</td>\n",
       "      <td>1.000000</td>\n",
       "    </tr>\n",
       "  </tbody>\n",
       "</table>\n",
       "</div>"
      ],
      "text/plain": [
       "                 0            1            2            3            4  \\\n",
       "count  2497.000000  2497.000000  2497.000000  2497.000000  2497.000000   \n",
       "mean      0.540248     0.149110     0.012457     0.125945     0.005406   \n",
       "std       0.411038     0.172084     0.034122     0.151414     0.065404   \n",
       "min       0.000000     0.000000     0.000000     0.000000     0.000000   \n",
       "25%       0.000000     0.016393     0.000000     0.015625     0.000000   \n",
       "50%       0.500000     0.081967     0.000000     0.062500     0.000000   \n",
       "75%       1.000000     0.213115     0.000000     0.203125     0.000000   \n",
       "max       1.000000     1.000000     1.000000     1.000000     1.000000   \n",
       "\n",
       "                 5            6            7  \n",
       "count  2497.000000  2497.000000  2497.000000  \n",
       "mean      0.002621     0.051580     0.162814  \n",
       "std       0.040685     0.098347     0.203635  \n",
       "min       0.000000     0.000000     0.000000  \n",
       "25%       0.000000     0.000000     0.010101  \n",
       "50%       0.000000     0.000000     0.078283  \n",
       "75%       0.000000     0.055556     0.239899  \n",
       "max       1.000000     1.000000     1.000000  "
      ]
     },
     "execution_count": 18,
     "metadata": {},
     "output_type": "execute_result"
    }
   ],
   "source": [
    "scaler_minmax.fit(X)\n",
    "X_scaled_minmax_train=scaler_minmax.transform(X)\n",
    "pd.DataFrame(X_scaled_minmax_train).describe()\n",
    "\n",
    "# 최소값(min)은 0으로, 최대값(max)은 1로 나타난 걸 확인할 수 있음"
   ]
  },
  {
   "cell_type": "code",
   "execution_count": 19,
   "id": "2bfb1f34",
   "metadata": {},
   "outputs": [
    {
     "data": {
      "text/plain": [
       "'X_scaled_standard_train'"
      ]
     },
     "execution_count": 19,
     "metadata": {},
     "output_type": "execute_result"
    }
   ],
   "source": [
    "'''X_scaled_standard_train'''"
   ]
  },
  {
   "cell_type": "markdown",
   "id": "21f4f111",
   "metadata": {},
   "source": [
    "### 2) 검증 데이터의 정규화"
   ]
  },
  {
   "cell_type": "code",
   "execution_count": 20,
   "id": "33ecf999",
   "metadata": {},
   "outputs": [
    {
     "data": {
      "text/plain": [
       "'scaler_standard.fit(X_val)\\nX_scaled_standard_train=scaler_standard.transform(X_val)\\npd.DataFrame(X_scaled_standard_train).describe()'"
      ]
     },
     "execution_count": 20,
     "metadata": {},
     "output_type": "execute_result"
    }
   ],
   "source": [
    "'''scaler_standard.fit(X_val)\n",
    "X_scaled_standard_train=scaler_standard.transform(X_val)\n",
    "pd.DataFrame(X_scaled_standard_train).describe()'''"
   ]
  },
  {
   "cell_type": "markdown",
   "id": "3105a76f",
   "metadata": {},
   "source": [
    "### 3) 테스트 데이터의 정규화"
   ]
  },
  {
   "cell_type": "code",
   "execution_count": 21,
   "id": "d51337a3",
   "metadata": {},
   "outputs": [
    {
     "data": {
      "text/plain": [
       "'X_scaled_minmax_test=scaler_minmax.transform(X_test)\\npd.DataFrame(X_scaled_minmax_test).describe()'"
      ]
     },
     "execution_count": 21,
     "metadata": {},
     "output_type": "execute_result"
    }
   ],
   "source": [
    "'''X_scaled_minmax_test=scaler_minmax.transform(X_test)\n",
    "pd.DataFrame(X_scaled_minmax_test).describe()'''"
   ]
  },
  {
   "cell_type": "markdown",
   "id": "2e5296a5",
   "metadata": {},
   "source": [
    "### 07. 학습 데이터와 검증용 데이터 분리\n",
    "- Train/Test set 분리\n",
    "- Train/Validation/Test set 분리"
   ]
  },
  {
   "cell_type": "code",
   "execution_count": 22,
   "id": "17412627",
   "metadata": {},
   "outputs": [],
   "source": [
    "# Train/Test set 분리\n",
    "\n",
    "from sklearn.model_selection import train_test_split\n",
    "\n",
    "X_train, X_test, y_train, y_test = train_test_split(X, y, test_size=0.2, stratify=y, random_state = 1) \n",
    "\n",
    "# stratify : 훈련 데이터와 테스트 데이터를 구분할 때, 레이블의 범주비율에 맞게 하라는 것 (회귀에는 사용 X)"
   ]
  },
  {
   "cell_type": "code",
   "execution_count": 23,
   "id": "23cbd591",
   "metadata": {},
   "outputs": [
    {
     "data": {
      "text/plain": [
       "((1997, 8), (500, 8), (1997,), (500,))"
      ]
     },
     "execution_count": 23,
     "metadata": {},
     "output_type": "execute_result"
    }
   ],
   "source": [
    "X_train.shape, X_test.shape, y_train.shape, y_test.shape"
   ]
  },
  {
   "cell_type": "code",
   "execution_count": 24,
   "id": "366c2dfd",
   "metadata": {},
   "outputs": [
    {
     "data": {
      "text/plain": [
       "'# Train/Validation/Test set 분리 (6:2:2)\\n\\nX_train, X_val, y_train, y_val = train_test_split(X_tmp, y_tmp, test_size=0.25, stratify=y_tmp, random_state=0)'"
      ]
     },
     "execution_count": 24,
     "metadata": {},
     "output_type": "execute_result"
    }
   ],
   "source": [
    "'''# Train/Validation/Test set 분리 (6:2:2)\n",
    "\n",
    "X_train, X_val, y_train, y_val = train_test_split(X_tmp, y_tmp, test_size=0.25, stratify=y_tmp, random_state=0)'''"
   ]
  },
  {
   "cell_type": "code",
   "execution_count": 25,
   "id": "a2f3e445",
   "metadata": {},
   "outputs": [
    {
     "data": {
      "text/plain": [
       "'X_train.shape, X_val.shape, X_test.shape, y_train.shape, y_val.shape, y_test.shape'"
      ]
     },
     "execution_count": 25,
     "metadata": {},
     "output_type": "execute_result"
    }
   ],
   "source": [
    "'''X_train.shape, X_val.shape, X_test.shape, y_train.shape, y_val.shape, y_test.shape'''"
   ]
  },
  {
   "cell_type": "markdown",
   "id": "aa2cd2c1",
   "metadata": {},
   "source": [
    "### 08. 가우시안 나이브 베이즈 모델 학습 및 예측"
   ]
  },
  {
   "cell_type": "code",
   "execution_count": 26,
   "id": "10a5986c",
   "metadata": {},
   "outputs": [],
   "source": [
    "gnb = GaussianNB()  #가우시안 나이브 베이즈 모델\n",
    "gnb_fit=gnb.fit(X_train,y_train) #학습 시작\n",
    "\n",
    "y_pred=gnb_fit.predict(X_test) #학습 결과를 테스트 데이터에 적용"
   ]
  },
  {
   "cell_type": "code",
   "execution_count": 27,
   "id": "591da73c",
   "metadata": {},
   "outputs": [
    {
     "data": {
      "text/plain": [
       "array([[0.9220089 , 0.0779911 ],\n",
       "       [0.94885475, 0.05114525],\n",
       "       [0.97037955, 0.02962045],\n",
       "       [0.01122759, 0.98877241]])"
      ]
     },
     "execution_count": 27,
     "metadata": {},
     "output_type": "execute_result"
    }
   ],
   "source": [
    "#특정 변수의 결과 뽑기(확률)\n",
    "gnb_fit.predict_proba(X_test)[[1,48,51,100]] # predict_proba 함수는 각 샘플에 대해 어느 클래스에 속할 확률을 0에서 1 사이의 값으로 돌려줌"
   ]
  },
  {
   "cell_type": "code",
   "execution_count": 28,
   "id": "f500809a",
   "metadata": {},
   "outputs": [
    {
     "data": {
      "text/plain": [
       "array([0, 0, 0, 1], dtype=int64)"
      ]
     },
     "execution_count": 28,
     "metadata": {},
     "output_type": "execute_result"
    }
   ],
   "source": [
    "#특정 변수의 결과 뽑기(범주)\n",
    "gnb_fit.predict(X_test)[[1,48,51,100]]"
   ]
  },
  {
   "cell_type": "code",
   "execution_count": 29,
   "id": "4809a053",
   "metadata": {},
   "outputs": [],
   "source": [
    "y_pred = gnb_fit.predict(X_test)"
   ]
  },
  {
   "cell_type": "code",
   "execution_count": 30,
   "id": "1fb5e52b",
   "metadata": {},
   "outputs": [
    {
     "data": {
      "text/plain": [
       "array([0, 0, 0, 0, 0, 0, 0, 0, 0, 0, 0, 0, 0, 0, 1, 0, 0, 0, 0, 0, 1, 0,\n",
       "       0, 0, 0, 1, 0, 0, 0, 0, 0, 0, 0, 0, 0, 0, 0, 1, 0, 0, 0, 0, 0, 0,\n",
       "       0, 0, 0, 0, 0, 0, 0, 0, 1, 0, 1, 0, 0, 0, 0, 1, 0, 1, 0, 1, 0, 1,\n",
       "       0, 0, 0, 0, 0, 0, 0, 0, 1, 0, 0, 0, 0, 0, 0, 0, 0, 0, 0, 1, 0, 1,\n",
       "       0, 0, 1, 0, 0, 0, 0, 0, 0, 0, 0, 0, 1, 1, 0, 0, 0, 0, 0, 0, 0, 0,\n",
       "       0, 0, 0, 0, 0, 0, 0, 0, 0, 0, 0, 0, 0, 0, 0, 0, 0, 0, 0, 0, 0, 0,\n",
       "       0, 1, 0, 0, 0, 0, 0, 0, 0, 0, 0, 0, 0, 0, 1, 0, 0, 0, 0, 0, 0, 0,\n",
       "       0, 1, 0, 0, 1, 0, 0, 0, 1, 0, 0, 0, 1, 0, 0, 0, 1, 1, 1, 0, 0, 0,\n",
       "       0, 0, 0, 0, 0, 0, 0, 0, 0, 0, 0, 1, 0, 0, 0, 0, 0, 0, 0, 0, 0, 1,\n",
       "       0, 0, 0, 0, 0, 0, 0, 0, 0, 0, 0, 0, 0, 0, 0, 0, 0, 0, 0, 0, 1, 0,\n",
       "       0, 0, 0, 1, 0, 0, 0, 0, 1, 0, 0, 0, 0, 0, 0, 0, 0, 0, 0, 0, 0, 0,\n",
       "       1, 1, 0, 0, 0, 0, 0, 0, 0, 1, 0, 0, 0, 0, 0, 0, 0, 0, 0, 0, 0, 0,\n",
       "       0, 0, 0, 1, 0, 0, 1, 0, 0, 0, 0, 0, 1, 0, 1, 0, 0, 0, 1, 0, 1, 0,\n",
       "       0, 0, 1, 0, 0, 0, 0, 0, 0, 1, 0, 0, 0, 0, 0, 0, 0, 0, 0, 1, 0, 1,\n",
       "       0, 0, 0, 0, 0, 1, 0, 0, 0, 0, 0, 0, 0, 0, 0, 0, 0, 0, 0, 0, 0, 0,\n",
       "       1, 0, 0, 0, 0, 0, 0, 1, 0, 1, 0, 0, 0, 0, 0, 0, 0, 0, 0, 0, 1, 0,\n",
       "       0, 0, 0, 0, 0, 0, 0, 0, 1, 1, 0, 0, 0, 0, 1, 0, 0, 0, 0, 0, 0, 1,\n",
       "       0, 0, 1, 0, 1, 1, 0, 0, 0, 0, 0, 0, 0, 0, 1, 0, 0, 0, 0, 0, 1, 0,\n",
       "       0, 0, 1, 0, 1, 0, 0, 1, 0, 0, 0, 0, 0, 0, 0, 0, 0, 0, 0, 0, 0, 0,\n",
       "       1, 0, 0, 0, 1, 0, 0, 0, 0, 1, 0, 0, 0, 0, 0, 0, 0, 0, 0, 1, 0, 0,\n",
       "       0, 0, 0, 0, 0, 0, 0, 0, 0, 0, 1, 0, 0, 0, 0, 0, 0, 0, 0, 0, 0, 0,\n",
       "       0, 0, 0, 0, 0, 1, 0, 0, 0, 0, 0, 1, 0, 0, 1, 0, 0, 0, 0, 0, 0, 0,\n",
       "       0, 0, 0, 0, 0, 0, 0, 0, 0, 0, 0, 0, 0, 0, 0, 0], dtype=int64)"
      ]
     },
     "execution_count": 30,
     "metadata": {},
     "output_type": "execute_result"
    }
   ],
   "source": [
    "y_pred\n",
    "#print(len(pred1))"
   ]
  },
  {
   "cell_type": "code",
   "execution_count": 31,
   "id": "dc3310b9",
   "metadata": {},
   "outputs": [
    {
     "name": "stdout",
     "output_type": "stream",
     "text": [
      "Train_Accuracy:  0.5453179769654481 \n",
      "\n"
     ]
    }
   ],
   "source": [
    "print('Train_Accuracy: ', gnb_fit.score(X_train, y_train),'\\n')"
   ]
  },
  {
   "cell_type": "markdown",
   "id": "00f2047d",
   "metadata": {},
   "source": [
    "### 09. 테스트셋에 대한 모델 정확도 확인"
   ]
  },
  {
   "cell_type": "code",
   "execution_count": 32,
   "id": "a1363df6",
   "metadata": {},
   "outputs": [],
   "source": [
    "import sklearn.metrics as mt"
   ]
  },
  {
   "cell_type": "code",
   "execution_count": 33,
   "id": "78753c44",
   "metadata": {},
   "outputs": [
    {
     "name": "stdout",
     "output_type": "stream",
     "text": [
      "Test_Accuracy:  0.52 \n",
      "\n"
     ]
    }
   ],
   "source": [
    "accuracy = mt.accuracy_score(y_test, y_pred)\n",
    "print('Test_Accuracy: ', format(accuracy,'.2f'),'\\n')"
   ]
  },
  {
   "cell_type": "markdown",
   "id": "6ae4040c",
   "metadata": {},
   "source": [
    "### 10. 모델 학습 결과 평가 및 결과지표 확인(컨퓨전 매트릭스)"
   ]
  },
  {
   "cell_type": "code",
   "execution_count": 34,
   "id": "f1d0cf93",
   "metadata": {},
   "outputs": [
    {
     "name": "stdout",
     "output_type": "stream",
     "text": [
      "Train_Accuracy:  0.5453179769654481 \n",
      "\n",
      "Accuracy:  0.52 \n",
      "\n",
      "Recall:  0.20 \n",
      "\n",
      "Precision:  0.84 \n",
      "\n",
      "F1_score:  0.32 \n",
      "\n",
      "Confusion Matrix: \n",
      " [[205  11]\n",
      " [227  57]]\n"
     ]
    }
   ],
   "source": [
    "print('Train_Accuracy: ', gnb_fit.score(X_train, y_train),'\\n')\n",
    "\n",
    "accuracy = mt.accuracy_score(y_test, y_pred)\n",
    "recall = mt.recall_score(y_test, y_pred)\n",
    "precision = mt.precision_score(y_test, y_pred)\n",
    "f1_score = mt.f1_score(y_test, y_pred)\n",
    "matrix = mt.confusion_matrix(y_test, y_pred)\n",
    "\n",
    "print('Accuracy: ', format(accuracy,'.2f'),'\\n')\n",
    "print('Recall: ', format(recall,'.2f'),'\\n')\n",
    "print('Precision: ', format(precision,'.2f'),'\\n')\n",
    "print('F1_score: ', format(f1_score,'.2f'),'\\n')\n",
    "print('Confusion Matrix:','\\n', matrix)"
   ]
  },
  {
   "cell_type": "code",
   "execution_count": 35,
   "id": "3911dc7a",
   "metadata": {},
   "outputs": [
    {
     "data": {
      "text/plain": [
       "0.524"
      ]
     },
     "execution_count": 35,
     "metadata": {},
     "output_type": "execute_result"
    }
   ],
   "source": [
    "# Accuracy = (TP + TN) / (TP + TN + FP + FN) 수동 정확도 계산\n",
    "(205+57) / matrix .sum()"
   ]
  },
  {
   "cell_type": "markdown",
   "id": "c20b5d04",
   "metadata": {},
   "source": [
    "### 10. K-Fold 교차검증(cross-validation)"
   ]
  },
  {
   "cell_type": "code",
   "execution_count": 36,
   "id": "1ae6704a",
   "metadata": {},
   "outputs": [
    {
     "data": {
      "text/plain": [
       "array([0.54      , 0.53      , 0.53306613, 0.55511022, 0.52304609])"
      ]
     },
     "execution_count": 36,
     "metadata": {},
     "output_type": "execute_result"
    }
   ],
   "source": [
    "# 교차검증\n",
    "from sklearn.model_selection import cross_val_score, cross_validate\n",
    "\n",
    "# 각 폴드의 스코어 \n",
    "scores = cross_val_score(gnb_fit, X, y, cv = 5)\n",
    "scores"
   ]
  },
  {
   "cell_type": "code",
   "execution_count": 37,
   "id": "0b38615d",
   "metadata": {},
   "outputs": [
    {
     "data": {
      "text/html": [
       "<div>\n",
       "<style scoped>\n",
       "    .dataframe tbody tr th:only-of-type {\n",
       "        vertical-align: middle;\n",
       "    }\n",
       "\n",
       "    .dataframe tbody tr th {\n",
       "        vertical-align: top;\n",
       "    }\n",
       "\n",
       "    .dataframe thead th {\n",
       "        text-align: right;\n",
       "    }\n",
       "</style>\n",
       "<table border=\"1\" class=\"dataframe\">\n",
       "  <thead>\n",
       "    <tr style=\"text-align: right;\">\n",
       "      <th></th>\n",
       "      <th>fit_time</th>\n",
       "      <th>score_time</th>\n",
       "      <th>test_score</th>\n",
       "    </tr>\n",
       "  </thead>\n",
       "  <tbody>\n",
       "    <tr>\n",
       "      <th>0</th>\n",
       "      <td>0.005680</td>\n",
       "      <td>0.001166</td>\n",
       "      <td>0.540000</td>\n",
       "    </tr>\n",
       "    <tr>\n",
       "      <th>1</th>\n",
       "      <td>0.002452</td>\n",
       "      <td>0.002002</td>\n",
       "      <td>0.530000</td>\n",
       "    </tr>\n",
       "    <tr>\n",
       "      <th>2</th>\n",
       "      <td>0.002999</td>\n",
       "      <td>0.002000</td>\n",
       "      <td>0.533066</td>\n",
       "    </tr>\n",
       "    <tr>\n",
       "      <th>3</th>\n",
       "      <td>0.002000</td>\n",
       "      <td>0.001999</td>\n",
       "      <td>0.555110</td>\n",
       "    </tr>\n",
       "    <tr>\n",
       "      <th>4</th>\n",
       "      <td>0.002007</td>\n",
       "      <td>0.001000</td>\n",
       "      <td>0.523046</td>\n",
       "    </tr>\n",
       "  </tbody>\n",
       "</table>\n",
       "</div>"
      ],
      "text/plain": [
       "   fit_time  score_time  test_score\n",
       "0  0.005680    0.001166    0.540000\n",
       "1  0.002452    0.002002    0.530000\n",
       "2  0.002999    0.002000    0.533066\n",
       "3  0.002000    0.001999    0.555110\n",
       "4  0.002007    0.001000    0.523046"
      ]
     },
     "execution_count": 37,
     "metadata": {},
     "output_type": "execute_result"
    }
   ],
   "source": [
    "pd.DataFrame(cross_validate(gnb_fit, X, y, cv =5))"
   ]
  },
  {
   "cell_type": "code",
   "execution_count": 38,
   "id": "95ce4758",
   "metadata": {},
   "outputs": [
    {
     "name": "stdout",
     "output_type": "stream",
     "text": [
      "교차검증 평균:  0.5362444889779558\n"
     ]
    }
   ],
   "source": [
    "print('교차검증 평균: ', scores.mean())"
   ]
  },
  {
   "cell_type": "markdown",
   "id": "ea0efb92",
   "metadata": {},
   "source": [
    "### 11. 사전확률(prior prob) 설정 및 accuracy 확인\n",
    "- priors를 통해 가우시안 나이브 베이즈의 특정 범주의 확률을 바꿀 수 있습니다. 각 범주의 사전 확률을 알고있으면 설정을 통해 더 좋은 결과를 얻을 수 있습니다. 목표변수가 0일 확률을 0.02, 1일 확률을 0.98로 설정하여 똑같이 모형을 적합하고 혼동행렬을 계산했습니다. 마지막 범주(Y=1)가 나올 확률을 높게 한 결과, 이전에서의 결과와 달리 실제 1인 경우를 잘 맞추는 대신 실제 0을 1로 잘못 분류하는 경우가 많아졌습니다.\n",
    "\n",
    "$a^2 + a^3 = 3$"
   ]
  },
  {
   "cell_type": "code",
   "execution_count": 39,
   "id": "5085cceb",
   "metadata": {},
   "outputs": [
    {
     "name": "stdout",
     "output_type": "stream",
     "text": [
      "Confusion Matrix: \n",
      " [[ 69 147]\n",
      " [  9 275]]\n"
     ]
    }
   ],
   "source": [
    "from sklearn.metrics import confusion_matrix #혼동행렬\n",
    "\n",
    "gnb2 = GaussianNB(priors=[2/100, 98/100])\n",
    "fitted2 = gnb2.fit(X_train,y_train)\n",
    "y_pred2 = fitted2.predict(X_test)\n",
    "\n",
    "matrix2 = mt.confusion_matrix(y_test, y_pred2)\n",
    "print('Confusion Matrix:','\\n', matrix2)"
   ]
  },
  {
   "cell_type": "code",
   "execution_count": 40,
   "id": "1733e85d",
   "metadata": {},
   "outputs": [
    {
     "data": {
      "text/plain": [
       "0.688"
      ]
     },
     "execution_count": 40,
     "metadata": {},
     "output_type": "execute_result"
    }
   ],
   "source": [
    "# Accuracy = (TP + TN) / (TP + TN + FP + FN) 수동 정확도 계산\n",
    "(69+275) / matrix2.sum()"
   ]
  },
  {
   "cell_type": "code",
   "execution_count": 41,
   "id": "43613a09",
   "metadata": {},
   "outputs": [
    {
     "name": "stdout",
     "output_type": "stream",
     "text": [
      "Confusion Matrix: \n",
      " [[212   4]\n",
      " [252  32]]\n"
     ]
    }
   ],
   "source": [
    "gnb3 = GaussianNB(priors=[98/100, 2/100])\n",
    "fitted3 = gnb3.fit(X_train,y_train)\n",
    "y_pred3 = fitted3.predict(X_test)\n",
    "\n",
    "matrix3 = mt.confusion_matrix(y_test, y_pred3)\n",
    "print('Confusion Matrix:','\\n', matrix3)"
   ]
  },
  {
   "cell_type": "code",
   "execution_count": 42,
   "id": "6fbccb7f",
   "metadata": {},
   "outputs": [
    {
     "data": {
      "text/plain": [
       "0.488"
      ]
     },
     "execution_count": 42,
     "metadata": {},
     "output_type": "execute_result"
    }
   ],
   "source": [
    "# Accuracy = (TP + TN) / (TP + TN + FP + FN) 수동 정확도 계산\n",
    "(212+32) / matrix3.sum()"
   ]
  },
  {
   "cell_type": "code",
   "execution_count": 43,
   "id": "582c5d29",
   "metadata": {},
   "outputs": [
    {
     "name": "stdout",
     "output_type": "stream",
     "text": [
      "Confusion Matrix: \n",
      " [[207   9]\n",
      " [227  57]]\n"
     ]
    }
   ],
   "source": [
    "gnb4 = GaussianNB(priors=[57/100, 43/100])\n",
    "fitted4 = gnb4.fit(X_train,y_train)\n",
    "y_pred4 = fitted4.predict(X_test)\n",
    "\n",
    "matrix4 = mt.confusion_matrix(y_test, y_pred4)\n",
    "print('Confusion Matrix:','\\n', matrix4)"
   ]
  },
  {
   "cell_type": "code",
   "execution_count": 44,
   "id": "dd11659d",
   "metadata": {},
   "outputs": [
    {
     "data": {
      "text/plain": [
       "0.528"
      ]
     },
     "execution_count": 44,
     "metadata": {},
     "output_type": "execute_result"
    }
   ],
   "source": [
    "# Accuracy = (TP + TN) / (TP + TN + FP + FN) 수동 정확도 계산\n",
    "(207+57) / matrix4.sum()"
   ]
  },
  {
   "cell_type": "markdown",
   "id": "570e3c37",
   "metadata": {},
   "source": [
    "✅ 성능 지표 확인"
   ]
  },
  {
   "cell_type": "code",
   "execution_count": 45,
   "id": "96705c60",
   "metadata": {},
   "outputs": [
    {
     "name": "stdout",
     "output_type": "stream",
     "text": [
      "              precision    recall  f1-score   support\n",
      "\n",
      "           0       0.88      0.32      0.47       216\n",
      "           1       0.65      0.97      0.78       284\n",
      "\n",
      "    accuracy                           0.69       500\n",
      "   macro avg       0.77      0.64      0.62       500\n",
      "weighted avg       0.75      0.69      0.65       500\n",
      "\n"
     ]
    }
   ],
   "source": [
    "from sklearn.metrics import classification_report\n",
    "\n",
    "print(classification_report(y_test, y_pred2))"
   ]
  },
  {
   "cell_type": "code",
   "execution_count": 55,
   "id": "4c5608f1",
   "metadata": {},
   "outputs": [
    {
     "name": "stdout",
     "output_type": "stream",
     "text": [
      "Note: you may need to restart the kernel to use updated packages.\n"
     ]
    },
    {
     "name": "stderr",
     "output_type": "stream",
     "text": [
      "ERROR: Could not find a version that satisfies the requirement visuaize (from versions: none)\n",
      "ERROR: No matching distribution found for visuaize\n"
     ]
    }
   ],
   "source": [
    "%pip install visualize "
   ]
  },
  {
   "cell_type": "code",
   "execution_count": 59,
   "id": "3877543a",
   "metadata": {},
   "outputs": [
    {
     "ename": "TypeError",
     "evalue": "can only concatenate str (not \"GaussianNB\") to str",
     "output_type": "error",
     "traceback": [
      "\u001b[1;31m---------------------------------------------------------------------------\u001b[0m",
      "\u001b[1;31mTypeError\u001b[0m                                 Traceback (most recent call last)",
      "Cell \u001b[1;32mIn[59], line 5\u001b[0m\n\u001b[0;32m      2\u001b[0m \u001b[38;5;28;01mimport\u001b[39;00m \u001b[38;5;21;01mvisualize\u001b[39;00m\n\u001b[0;32m      3\u001b[0m \u001b[38;5;66;03m# visualize.visual\u001b[39;00m\n\u001b[1;32m----> 5\u001b[0m visualize\u001b[38;5;241m.\u001b[39mvisualize_grid_attention(fitted4, X, y)\n",
      "File \u001b[1;32m~\\anaconda3\\Lib\\site-packages\\visualize\\grid_attention_visualization\\visualize_attention_map.py:18\u001b[0m, in \u001b[0;36mvisualize_grid_attention\u001b[1;34m(img_path, save_path, attention_mask, ratio, save_image, save_original_image, quality)\u001b[0m\n\u001b[0;32m     10\u001b[0m \u001b[38;5;28;01mdef\u001b[39;00m \u001b[38;5;21mvisualize_grid_attention\u001b[39m(img_path, save_path, attention_mask, ratio\u001b[38;5;241m=\u001b[39m\u001b[38;5;241m0.5\u001b[39m, save_image\u001b[38;5;241m=\u001b[39m\u001b[38;5;28;01mTrue\u001b[39;00m, save_original_image\u001b[38;5;241m=\u001b[39m\u001b[38;5;28;01mTrue\u001b[39;00m, quality\u001b[38;5;241m=\u001b[39m\u001b[38;5;241m100\u001b[39m):\n\u001b[0;32m     11\u001b[0m \u001b[38;5;250m    \u001b[39m\u001b[38;5;124;03m\"\"\"\u001b[39;00m\n\u001b[0;32m     12\u001b[0m \u001b[38;5;124;03m    img_path: where to load the image\u001b[39;00m\n\u001b[0;32m     13\u001b[0m \u001b[38;5;124;03m    save_path: where to save the image\u001b[39;00m\n\u001b[1;32m   (...)\u001b[0m\n\u001b[0;32m     16\u001b[0m \u001b[38;5;124;03m    quality: save image quality\u001b[39;00m\n\u001b[0;32m     17\u001b[0m \u001b[38;5;124;03m    \"\"\"\u001b[39;00m\n\u001b[1;32m---> 18\u001b[0m     \u001b[38;5;28mprint\u001b[39m(\u001b[38;5;124m\"\u001b[39m\u001b[38;5;124mload image from: \u001b[39m\u001b[38;5;124m\"\u001b[39m \u001b[38;5;241m+\u001b[39m img_path)\n\u001b[0;32m     19\u001b[0m     img \u001b[38;5;241m=\u001b[39m Image\u001b[38;5;241m.\u001b[39mopen(img_path)\n\u001b[0;32m     20\u001b[0m     img_h, img_w \u001b[38;5;241m=\u001b[39m img\u001b[38;5;241m.\u001b[39msize[\u001b[38;5;241m0\u001b[39m], img\u001b[38;5;241m.\u001b[39msize[\u001b[38;5;241m1\u001b[39m]\n",
      "\u001b[1;31mTypeError\u001b[0m: can only concatenate str (not \"GaussianNB\") to str"
     ]
    }
   ],
   "source": [
    "#분류기 성능 시각화\n",
    "import visualize\n",
    "# visualize.visual\n",
    "\n",
    "visualize.visualize_grid_attention(fitted4, X, y)"
   ]
  },
  {
   "cell_type": "code",
   "execution_count": null,
   "id": "50219cad-c300-46e9-815e-2e42843d6ac4",
   "metadata": {},
   "outputs": [],
   "source": []
  }
 ],
 "metadata": {
  "kernelspec": {
   "display_name": "Python 3 (ipykernel)",
   "language": "python",
   "name": "python3"
  },
  "language_info": {
   "codemirror_mode": {
    "name": "ipython",
    "version": 3
   },
   "file_extension": ".py",
   "mimetype": "text/x-python",
   "name": "python",
   "nbconvert_exporter": "python",
   "pygments_lexer": "ipython3",
   "version": "3.11.7"
  }
 },
 "nbformat": 4,
 "nbformat_minor": 5
}
