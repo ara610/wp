{
 "cells": [
  {
   "cell_type": "code",
   "execution_count": 7,
   "id": "a136c54e",
   "metadata": {},
   "outputs": [
    {
     "name": "stdout",
     "output_type": "stream",
     "text": [
      "Collecting pymysql\n",
      "  Obtaining dependency information for pymysql from https://files.pythonhosted.org/packages/e5/30/20467e39523d0cfc2b6227902d3687a16364307260c75e6a1cb4422b0c62/PyMySQL-1.1.0-py3-none-any.whl.metadata\n",
      "  Downloading PyMySQL-1.1.0-py3-none-any.whl.metadata (4.4 kB)\n",
      "Downloading PyMySQL-1.1.0-py3-none-any.whl (44 kB)\n",
      "   ---------------------------------------- 0.0/44.8 kB ? eta -:--:--\n",
      "   --------- ------------------------------ 10.2/44.8 kB ? eta -:--:--\n",
      "   ---------------------------------------- 44.8/44.8 kB 548.1 kB/s eta 0:00:00\n",
      "Installing collected packages: pymysql\n",
      "Successfully installed pymysql-1.1.0\n"
     ]
    }
   ],
   "source": [
    "!pip install xlrd\n",
    "!pip install openpyxl\n",
    "!pip install pandas\n",
    "!pip install pymysql"
   ]
  },
  {
   "cell_type": "code",
   "execution_count": 34,
   "id": "2fdfdbc1",
   "metadata": {},
   "outputs": [
    {
     "name": "stdout",
     "output_type": "stream",
     "text": [
      "['892', '0', '3', 'Kelly, Mr. James', 'male', '34.5', '0', '0', '330911', '7.8292', '', 'Q']\n",
      "()\n"
     ]
    }
   ],
   "source": [
    "import csv \n",
    "import pymysql\n",
    "\n",
    "db = pymysql.connect( \n",
    "    host='127.0.0.1', # MySQL Server Address \n",
    "    port=3306, # MySQL Server Port \n",
    "    user='root', # MySQL username \n",
    "    passwd='Raffine9847!', # password for MySQL\n",
    "    db='titanic', # Database name \n",
    "    charset='utf8' )\n",
    "\n",
    "cursor = db.cursor()\n",
    "\n",
    "f = open('./archive/tested.csv', 'r', encoding='utf-8') \n",
    "rdr = csv.reader(f) \n",
    "\n",
    "for idx, row in enumerate(rdr): \n",
    "    if idx == 0: # 헤더는 제외합니다. \n",
    "        continue \n",
    "    print(row)\n",
    "    '''\n",
    "    sql = \"\"\" \n",
    "        insert into Passenger \n",
    "        (PassengerId, Survived, Pclass, Name, Gender, Age, SibSp, Parch, Ticket, Fare, Cabin, Embarked)\n",
    "        values (%s, %s, %s, %s, %s, %s, %s, %s, %s, %s, %s, %s) \n",
    "    \"\"\" \n",
    "    cursor.execute(sql, (row[0], row[1], row[2], row[3], row[4], row[5], row[6], row[7], row[8], row[9], row[10], row[11])) \n",
    "    '''\n",
    "    \n",
    "    sql = \"\"\"\n",
    "        select * from Passenger\n",
    "    \"\"\"\n",
    "    cursor.execute(sql)\n",
    "    data = cursor.fetchall()\n",
    "    print(data)\n",
    "# db.commit()\n",
    "\n",
    "db.close() \n",
    "f.close()"
   ]
  },
  {
   "cell_type": "code",
   "execution_count": null,
   "id": "5d5e2d4e",
   "metadata": {},
   "outputs": [],
   "source": []
  }
 ],
 "metadata": {
  "kernelspec": {
   "display_name": "Python 3 (ipykernel)",
   "language": "python",
   "name": "python3"
  },
  "language_info": {
   "codemirror_mode": {
    "name": "ipython",
    "version": 3
   },
   "file_extension": ".py",
   "mimetype": "text/x-python",
   "name": "python",
   "nbconvert_exporter": "python",
   "pygments_lexer": "ipython3",
   "version": "3.11.5"
  }
 },
 "nbformat": 4,
 "nbformat_minor": 5
}
