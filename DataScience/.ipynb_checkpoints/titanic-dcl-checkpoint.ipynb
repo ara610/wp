{
 "cells": [
  {
   "cell_type": "code",
   "execution_count": 15,
   "id": "a136c54e",
   "metadata": {},
   "outputs": [
    {
     "name": "stdout",
     "output_type": "stream",
     "text": [
      "Collecting mysql-connector-python\n",
      "  Downloading mysql_connector_python-8.3.0-cp310-cp310-win_amd64.whl (15.4 MB)\n",
      "     --------------------------------------- 15.4/15.4 MB 11.3 MB/s eta 0:00:00\n",
      "Installing collected packages: mysql-connector-python\n",
      "Successfully installed mysql-connector-python-8.3.0\n"
     ]
    }
   ],
   "source": [
    "!pip install xlrd\n",
    "!pip install openpyxl\n",
    "!pip install pandas\n",
    "!pip install mysql-connector-python"
   ]
  },
  {
   "cell_type": "code",
   "execution_count": 17,
   "id": "2fdfdbc1",
   "metadata": {},
   "outputs": [
    {
     "name": "stdout",
     "output_type": "stream",
     "text": [
      "0\n",
      "1\n",
      "['1', '0', '3', 'Braund, Mr. Owen Harris', 'male', '22', '1', '0', 'A/5 21171', '7.25', '', 'S']\n"
     ]
    }
   ],
   "source": [
    "import csv \n",
    "import mysql.connector\n",
    "\n",
    "db = mysql.connector.connect(\n",
    "    host='127.0.0.1', \n",
    "    database='titanic', \n",
    "    user='root', \n",
    "    password='Raffine9847!'\n",
    ")\n",
    "\n",
    "cursor = db.cursor()\n",
    "\n",
    "f = open('./data/titanic_train.csv', 'r', encoding='utf-8') \n",
    "rdr = csv.reader(f) \n",
    "\n",
    "for idx, row in enumerate(rdr): \n",
    "    if idx == 0: # 헤더는 제외합니다. \n",
    "        continue \n",
    "    \n",
    "    print(row)\n",
    "    sql = \"\"\" \n",
    "        insert into Passenger \n",
    "        (PassengerId, Survived, Pclass, Name, Gender, Age, SibSp, Parch, \n",
    "            Ticket, Fare, Cabin, Embarked)\n",
    "        values (%s, %s, %s, %s, %s, %s, %s, %s, %s, %s, %s, %s) \n",
    "    \"\"\" \n",
    "    #cursor.execute(sql, (row[0], row[1], row[2], row[3], row[4], row[5], row[6], row[7], row[8], row[9], row[10], row[11])) \n",
    "\n",
    "db.commit()\n",
    "\n",
    "db.close() \n",
    "f.close()"
   ]
  },
  {
   "cell_type": "code",
   "execution_count": null,
   "id": "4f5e8001",
   "metadata": {},
   "outputs": [],
   "source": []
  }
 ],
 "metadata": {
  "kernelspec": {
   "display_name": "Python 3 (ipykernel)",
   "language": "python",
   "name": "python3"
  },
  "language_info": {
   "codemirror_mode": {
    "name": "ipython",
    "version": 3
   },
   "file_extension": ".py",
   "mimetype": "text/x-python",
   "name": "python",
   "nbconvert_exporter": "python",
   "pygments_lexer": "ipython3",
   "version": "3.10.9"
  }
 },
 "nbformat": 4,
 "nbformat_minor": 5
}
